{
  "nbformat": 4,
  "nbformat_minor": 0,
  "metadata": {
    "colab": {
      "provenance": [],
      "include_colab_link": true
    },
    "kernelspec": {
      "name": "python3",
      "display_name": "Python 3"
    },
    "language_info": {
      "name": "python"
    }
  },
  "cells": [
    {
      "cell_type": "markdown",
      "metadata": {
        "id": "view-in-github",
        "colab_type": "text"
      },
      "source": [
        "<a href=\"https://colab.research.google.com/github/Trodriguez238/PROGCOM-B/blob/main/Clase_8_POO_Programaci%C3%B3n_Orientada_a_Objetos.ipynb\" target=\"_parent\"><img src=\"https://colab.research.google.com/assets/colab-badge.svg\" alt=\"Open In Colab\"/></a>"
      ]
    },
    {
      "cell_type": "code",
      "execution_count": 3,
      "metadata": {
        "colab": {
          "base_uri": "https://localhost:8080/"
        },
        "id": "NDfCevF5NqQG",
        "outputId": "f1aef13f-d331-4175-cad2-717a2f0210b4"
      },
      "outputs": [
        {
          "output_type": "execute_result",
          "data": {
            "text/plain": [
              "['dahlia', 'lirio', 'tulipán']"
            ]
          },
          "metadata": {},
          "execution_count": 3
        }
      ],
      "source": [
        "#Floristería\n",
        "#1. Conjunto de flores, se elige aleatoriamente una cantidad\n",
        "import random\n",
        "\n",
        "flores=[\"tulipán\",\"lirio\",\"rosa\",\"dahlia\",\"margarita\",\"girasol\",\"clavel\",\"geranio\"]\n",
        "seleccion=random.sample(flores,3)\n",
        "seleccion"
      ]
    },
    {
      "cell_type": "code",
      "source": [
        "def inventario():\n",
        "  flores=[\"tulipán\",\"lirio\",\"rosa\",\"dahlia\",\"margarita\",\"girasol\",\"clavel\",\"geranio\"]\n",
        "  seleccion=random.sample(flores,3)\n",
        "\n",
        "  inventario={\n",
        "      flor:{\n",
        "          \"precio\":random.randint(2000,6000),\n",
        "          \"cantidad\":random.randint(10,50),\n",
        "          \"vendidas\":0\n",
        "      } for flor in seleccion\n",
        "      }\n",
        "  return inventario"
      ],
      "metadata": {
        "id": "m-usbTXsOjQm"
      },
      "execution_count": 4,
      "outputs": []
    },
    {
      "cell_type": "code",
      "source": [
        "inventario()"
      ],
      "metadata": {
        "colab": {
          "base_uri": "https://localhost:8080/"
        },
        "id": "mip1k6ReQZCM",
        "outputId": "2ecd6990-6603-41ed-8419-61298ed21816"
      },
      "execution_count": 5,
      "outputs": [
        {
          "output_type": "execute_result",
          "data": {
            "text/plain": [
              "{'rosa': {'precio': 5596, 'cantidad': 40, 'vendidas': 0},\n",
              " 'clavel': {'precio': 3238, 'cantidad': 46, 'vendidas': 0},\n",
              " 'geranio': {'precio': 2389, 'cantidad': 47, 'vendidas': 0}}"
            ]
          },
          "metadata": {},
          "execution_count": 5
        }
      ]
    },
    {
      "cell_type": "code",
      "source": [
        "flor=inventario()\n",
        "flor.items()"
      ],
      "metadata": {
        "colab": {
          "base_uri": "https://localhost:8080/"
        },
        "id": "s3aDhPEVSKXj",
        "outputId": "0e8b49fb-4406-4dd0-8bb0-242ecadafecf"
      },
      "execution_count": 6,
      "outputs": [
        {
          "output_type": "execute_result",
          "data": {
            "text/plain": [
              "dict_items([('lirio', {'precio': 2650, 'cantidad': 19, 'vendidas': 0}), ('clavel', {'precio': 4834, 'cantidad': 44, 'vendidas': 0}), ('rosa', {'precio': 4378, 'cantidad': 13, 'vendidas': 0})])"
            ]
          },
          "metadata": {},
          "execution_count": 6
        }
      ]
    },
    {
      "cell_type": "code",
      "source": [
        "def menu(inventario):\n",
        "  print(\"\\n---MENÚ DE FLORE DISPONIBLES FLORISTERÍA CARLITOS---\")\n",
        "  for flor,datos in inventario.items():\n",
        "    print(f\"{flor}: ${datos['precio']} cant: {datos['cantidad']} disponibles\")\n",
        "  print(\"------------------------------------------------------\")"
      ],
      "metadata": {
        "id": "PSBi00dfRNMk"
      },
      "execution_count": 1,
      "outputs": []
    },
    {
      "cell_type": "code",
      "source": [
        "menu(inventario())"
      ],
      "metadata": {
        "colab": {
          "base_uri": "https://localhost:8080/"
        },
        "id": "ZX5WkX-jTaUR",
        "outputId": "ac67d22c-2def-4a87-a6e8-bc55a9b2378b"
      },
      "execution_count": 10,
      "outputs": [
        {
          "output_type": "stream",
          "name": "stdout",
          "text": [
            "\n",
            "---MENÚ DE FLORE DISPONIBLES FLORISTERÍA CARLITOS---\n",
            "margarita: $2878 cant: 23 disponibles\n",
            "clavel: $2714 cant: 34 disponibles\n",
            "geranio: $3954 cant: 43 disponibles\n",
            "------------------------------------------------------\n"
          ]
        }
      ]
    },
    {
      "cell_type": "code",
      "source": [
        "def ventas(inventario,flor,cantidad,total_ganado):\n",
        "  if flor not in inventario:\n",
        "    print(f\"{flor} no se encuentra a la venta🤷‍♀️\")\n",
        "    return total_ganado\n",
        "  datos=inventario[flor]\n",
        "  if cantidad>datos[\"cantidad\"]:\n",
        "    print(f\"Lo siento. No tenemos la cantidad requerida\")\n",
        "    return total_ganado\n",
        "\n",
        "  #Realizando la venta\n",
        "  datos[\"cantidad\"]-=cantidad\n",
        "  datos[\"vendidas\"]+=cantidad\n",
        "  venta = datos[\"precio\"] * cantidad\n",
        "  total_ganado+=venta\n",
        "  print(f\"Vendidas: {cantidad} de {flor} por un total de ${venta}\")\n",
        "\n",
        "  #Si se acaba, eliminamos la flor\n",
        "  if datos[\"cantidad\"]==0:\n",
        "    print(f\"{flor} ha sido eliminada del inventario 🥀\")\n",
        "    del inventario[flor]\n",
        "  return total_ganado"
      ],
      "metadata": {
        "id": "af_9_62xUzN6"
      },
      "execution_count": null,
      "outputs": []
    },
    {
      "cell_type": "code",
      "source": [
        "def cerrar_tienda(inventario_inicial,inventario_final,total_ganado):\n",
        "  print(\"\\n---Tienda Cerrada---\")\n",
        "  #Combinar el inventario inicial con el final para saber cuántas se vendieron\n",
        "  flores_vendidas={}\n",
        "  for flor,datos in inventario_inicial.items():\n",
        "    cantidad_final=inventario_final.get(flor,{\"cantidad\":0})[\"cantidad\"]\n",
        "    vendidas=datos[\"cantidad\"]-cantidad_final\n",
        "    flores_vendidas[flor]=vendidas\n",
        "\n",
        "  #Determinar cuáles fueron las más vendidas\n",
        "  mas_vendidas=max(flores_vendidas,key=flores_vendidas.get)\n",
        "  menos_vendidas=min(flores_vendidas,key=flores_vendidas.get)\n",
        "\n",
        "  print(f\"Flor más vendida fue {mas_vendidas}:{flores_vendidas[mas_vendidas]} unidad(es)\")\n",
        "  print(f\"Flor menos vendida fue {menos_vendidas}:{flores_vendidas[menos_vendidas]} unidad(es)\")"
      ],
      "metadata": {
        "id": "JZV8Q60fZcUm"
      },
      "execution_count": null,
      "outputs": []
    },
    {
      "cell_type": "code",
      "source": [
        "flor"
      ],
      "metadata": {
        "colab": {
          "base_uri": "https://localhost:8080/"
        },
        "id": "Bp1nuahSd2yz",
        "outputId": "ca1957c0-ff5a-4159-a1a9-d460dc19cc1f"
      },
      "execution_count": null,
      "outputs": [
        {
          "output_type": "execute_result",
          "data": {
            "text/plain": [
              "{'margarita': {'precio': 4331, 'cantidad': 46, 'vendidas': 0},\n",
              " 'dahlia': {'precio': 4241, 'cantidad': 45, 'vendidas': 0},\n",
              " 'clavel': {'precio': 3874, 'cantidad': 45, 'vendidas': 0}}"
            ]
          },
          "metadata": {},
          "execution_count": 17
        }
      ]
    },
    {
      "cell_type": "code",
      "source": [
        "total_ganado=0\n",
        "total_ganado=ventas(flor,\"rosa\",10,total_ganado)\n",
        "total_ganado=ventas(flor,\"clavel\",18,total_ganado)\n",
        "total_ganado=ventas(flor,\"margarita\",80,total_ganado)"
      ],
      "metadata": {
        "colab": {
          "base_uri": "https://localhost:8080/"
        },
        "id": "gPFg1TkbdBvG",
        "outputId": "ea1b519e-22a3-428d-ea28-8eff0dbb48eb"
      },
      "execution_count": null,
      "outputs": [
        {
          "output_type": "stream",
          "name": "stdout",
          "text": [
            "rosa no se encuentra a la venta🤷‍♀️\n",
            "Vendidas: 18 de clavel por un total de $69732\n",
            "Lo siento. No tenemos la cantidad requerida\n"
          ]
        }
      ]
    },
    {
      "cell_type": "code",
      "source": [
        "menu(flor)"
      ],
      "metadata": {
        "colab": {
          "base_uri": "https://localhost:8080/"
        },
        "id": "S7YNm3W7eSzT",
        "outputId": "7efd441c-d070-4d55-f1b9-6efe58abe9c1"
      },
      "execution_count": null,
      "outputs": [
        {
          "output_type": "stream",
          "name": "stdout",
          "text": [
            "\n",
            "---MENÚ DE FLORE DISPONIBLES FLORISTERÍA CARLITOS---\n",
            "margarita: $4331 cant: 46 disponibles\n",
            "dahlia: $4241 cant: 45 disponibles\n",
            "clavel: $3874 cant: 27 disponibles\n",
            "------------------------------------------------------\n"
          ]
        }
      ]
    },
    {
      "cell_type": "code",
      "source": [],
      "metadata": {
        "id": "ukrikVkgeeM6"
      },
      "execution_count": null,
      "outputs": []
    }
  ]
}
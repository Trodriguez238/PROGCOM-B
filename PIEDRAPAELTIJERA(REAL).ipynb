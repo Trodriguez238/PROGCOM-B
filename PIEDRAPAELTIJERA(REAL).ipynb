{
  "nbformat": 4,
  "nbformat_minor": 0,
  "metadata": {
    "colab": {
      "provenance": [],
      "authorship_tag": "ABX9TyPwNwlEfpVNv1P1Vm9LnTOS",
      "include_colab_link": true
    },
    "kernelspec": {
      "name": "python3",
      "display_name": "Python 3"
    },
    "language_info": {
      "name": "python"
    }
  },
  "cells": [
    {
      "cell_type": "markdown",
      "metadata": {
        "id": "view-in-github",
        "colab_type": "text"
      },
      "source": [
        "<a href=\"https://colab.research.google.com/github/Trodriguez238/PROGCOM-B/blob/main/PIEDRAPAELTIJERA(REAL).ipynb\" target=\"_parent\"><img src=\"https://colab.research.google.com/assets/colab-badge.svg\" alt=\"Open In Colab\"/></a>"
      ]
    },
    {
      "cell_type": "code",
      "execution_count": null,
      "metadata": {
        "id": "w39Eh6_muN_d"
      },
      "outputs": [],
      "source": [
        "import tkinter as tk\n",
        "from tkinter import messagebox\n",
        "import random\n",
        "\n",
        "# Opciones del juego\n",
        "opciones = [\"Piedra\", \"Papel\", \"Tijera\", \"Lagarto\", \"Spock\"]\n",
        "\n",
        "# Reglas: qué gana a qué\n",
        "# Cada clave gana a los valores en la lista\n",
        "reglas = {\n",
        "    \"Piedra\": [\"Tijera\", \"Lagarto\"],\n",
        "    \"Papel\": [\"Piedra\", \"Spock\"],\n",
        "    \"Tijera\": [\"Papel\", \"Lagarto\"],\n",
        "    \"Lagarto\": [\"Spock\", \"Papel\"],\n",
        "    \"Spock\": [\"Tijera\", \"Piedra\"]\n",
        "}\n",
        "\n",
        "class JuegoPPTLS:\n",
        "    def __init__(self, master):\n",
        "        self.master = master\n",
        "        master.title(\"Piedra Papel Tijera Lagarto Spock\")\n",
        "\n",
        "        self.label = tk.Label(master, text=\"Elige tu jugada:\", font=(\"Arial\", 14))\n",
        "        self.label.pack(pady=10)\n",
        "\n",
        "        self.frame_botones = tk.Frame(master)\n",
        "        self.frame_botones.pack()\n",
        "\n",
        "        # Crear botones para cada opción\n",
        "        for opcion in opciones:\n",
        "            btn = tk.Button(self.frame_botones, text=opcion, width=12, height=2,\n",
        "                            command=lambda op=opcion: self.jugar(op))\n",
        "            btn.pack(side=tk.LEFT, padx=5, pady=5)\n",
        "\n",
        "        self.resultado = tk.Label(master, text=\"\", font=(\"Arial\", 12), fg=\"blue\")\n",
        "        self.resultado.pack(pady=20)\n",
        "\n",
        "    def jugar(self, eleccion_usuario):\n",
        "        eleccion_ia = random.choice(opciones)\n",
        "        resultado = self.comprobar_ganador(eleccion_usuario, eleccion_ia)\n",
        "\n",
        "        texto = f\"Tú elegiste: {eleccion_usuario}\\nIA eligió: {eleccion_ia}\\n\\n{resultado}\"\n",
        "        self.resultado.config(text=texto)\n",
        "\n",
        "    def comprobar_ganador(self, usuario, ia):\n",
        "        if usuario == ia:\n",
        "            return \"¡Empate!\"\n",
        "        elif ia in reglas[usuario]:\n",
        "            return \"¡Ganaste!\"\n",
        "        else:\n",
        "            return \"¡Perdiste!\"\n",
        "\n",
        "if __name__ == \"__main__\":\n",
        "    root = tk.Tk()\n",
        "    juego = JuegoPPTLS(root)\n",
        "    root.mainloop()"
      ]
    }
  ]
}
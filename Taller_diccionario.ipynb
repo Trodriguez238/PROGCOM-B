{
  "nbformat": 4,
  "nbformat_minor": 0,
  "metadata": {
    "colab": {
      "provenance": [],
      "authorship_tag": "ABX9TyPU1Kbv96MGwB86CJ4k6MQc",
      "include_colab_link": true
    },
    "kernelspec": {
      "name": "python3",
      "display_name": "Python 3"
    },
    "language_info": {
      "name": "python"
    }
  },
  "cells": [
    {
      "cell_type": "markdown",
      "metadata": {
        "id": "view-in-github",
        "colab_type": "text"
      },
      "source": [
        "<a href=\"https://colab.research.google.com/github/Trodriguez238/PROGCOM-B/blob/main/Taller_diccionario.ipynb\" target=\"_parent\"><img src=\"https://colab.research.google.com/assets/colab-badge.svg\" alt=\"Open In Colab\"/></a>"
      ]
    },
    {
      "cell_type": "markdown",
      "source": [
        "##15.Crea una función que reciba un diccionario de estudiantes (clave: nombre, valor: nota) y retorne el promedio."
      ],
      "metadata": {
        "id": "4mqe_cMo4y93"
      }
    },
    {
      "cell_type": "code",
      "source": [
        "def calcular_promedio(estudiantes):\n",
        "    if not estudiantes:\n",
        "        return 0.0\n",
        "    suma = sum(estudiantes.values())\n",
        "    return suma / len(estudiantes)\n",
        "notas = {\"Pedro\": 80, \"Sofia\": 90, \"Miguel\": 85}\n",
        "print(\"Promedio:\", calcular_promedio(notas))"
      ],
      "metadata": {
        "colab": {
          "base_uri": "https://localhost:8080/"
        },
        "id": "BUolpTzJ5DF_",
        "outputId": "07b07a9c-4610-4ae3-b9d7-0d731ee44e70"
      },
      "execution_count": 34,
      "outputs": [
        {
          "output_type": "stream",
          "name": "stdout",
          "text": [
            "Promedio: 85.0\n"
          ]
        }
      ]
    },
    {
      "cell_type": "markdown",
      "source": [
        "##16.Crea una función que reciba un diccionario y un nombre, y retorne la nota si existe o no\n"
      ],
      "metadata": {
        "id": "3UNXh-Sy9N-c"
      }
    },
    {
      "cell_type": "code",
      "source": [
        "def obtener_nota(diccionario, nombre):\n",
        "        return diccionario.get(nombre, 'no encontrado')\n",
        "nota_estudiantes= {'luis': 2.7, 'sara': 4.3, \"Miguel\":4.9}\n",
        "print(nota_estudiantes.get('sara'))\n",
        "print(nota_estudiantes.get('Aldana',\"no encontrado\"))\n",
        "\n"
      ],
      "metadata": {
        "colab": {
          "base_uri": "https://localhost:8080/"
        },
        "id": "FC0907wF9XGs",
        "outputId": "6d842cc9-fc50-4854-f6ef-afb6ab3c8303"
      },
      "execution_count": 28,
      "outputs": [
        {
          "output_type": "stream",
          "name": "stdout",
          "text": [
            "4.3\n",
            "no encontrado\n"
          ]
        }
      ]
    }
  ]
}
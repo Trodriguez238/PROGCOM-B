{
  "nbformat": 4,
  "nbformat_minor": 0,
  "metadata": {
    "colab": {
      "provenance": [],
      "authorship_tag": "ABX9TyNl3EZB/zVnc+e/5lABisOC",
      "include_colab_link": true
    },
    "kernelspec": {
      "name": "python3",
      "display_name": "Python 3"
    },
    "language_info": {
      "name": "python"
    }
  },
  "cells": [
    {
      "cell_type": "markdown",
      "metadata": {
        "id": "view-in-github",
        "colab_type": "text"
      },
      "source": [
        "<a href=\"https://colab.research.google.com/github/Trodriguez238/PROGCOM-B/blob/main/Clase_2_Estructuras_de_repetici%C3%B3n.ipynb\" target=\"_parent\"><img src=\"https://colab.research.google.com/assets/colab-badge.svg\" alt=\"Open In Colab\"/></a>"
      ]
    },
    {
      "cell_type": "markdown",
      "source": [
        "#Estructuras de repeticion\n",
        "Se emplean cuando se desea repetir una parte del codigo, dada una condicion\n",
        "\n"
      ],
      "metadata": {
        "id": "6ACQLg7SlfXE"
      }
    },
    {
      "cell_type": "markdown",
      "source": [
        "##Estructura para -for\n",
        "Se usa cuando\n",
        "*   Se sabe **cuantas veces** se repite una accion\n",
        "*   Esta compuesta por un contador y una condicion\n",
        "* **contador**: Identifica cuantas veces y con que que frecuencia\n",
        "* **Condicion**: Evalua cuando se detiene.\n",
        "Por definicion:\n",
        "```\n",
        "for variable in range(V1,VF+1,PASO):\n",
        "    Aqui se repita para el codigo.\n",
        "```\n",
        "Donde:\n",
        "1. Vi: condicion inicial. Donde arranca a contar\n",
        "2. vf+1: condicion inicial. Donde deja de contar +1\n",
        "3. paso: Frecuencia de conteo\n",
        "\n",
        "for para recorrido de listas\n",
        "flor=[\"amapola\",\"rosa\",\"tulipan\",\"orquidea\"]\n",
        "* El para va a iterar tantas veces como elmentos tenga la lista\n",
        "* la variable dentro del para, toma como valor, cada elemento de la lista\n",
        "```\n",
        "for variable in lista:\n",
        "    variable\n",
        "```\n",
        "\n",
        "\n"
      ],
      "metadata": {
        "id": "dr65GH2wlyV8"
      }
    },
    {
      "cell_type": "code",
      "source": [
        "#creando una lista de nombre flor\n",
        "flor=[\"amapola\",\"rosa\",\"tulipan\",\"orquidea\"]\n",
        "for flores in flor:\n",
        "    print(flores)\n",
        "    if flores ==\"amapola\":\n",
        "        break"
      ],
      "metadata": {
        "colab": {
          "base_uri": "https://localhost:8080/"
        },
        "id": "7obx7y1h01QH",
        "outputId": "38bdc45a-182f-4b7f-d79c-3f04c7ad8efb"
      },
      "execution_count": 21,
      "outputs": [
        {
          "output_type": "stream",
          "name": "stdout",
          "text": [
            "amapola\n"
          ]
        }
      ]
    },
    {
      "cell_type": "markdown",
      "source": [
        "##Estructura while\n",
        "* se emeplea cuando **No se sabe**\n",
        "cuantas veces se debe repetir una accion, peromsi se conoce su condicion de parada (CP).\n",
        "*  condicion final(parada):Que indica dondese detiene el ciclo\n",
        "*  Modificador de condicion inicial\n",
        "Estrucutra genera de mientras\n",
        "\n",
        "```\n",
        "Condicion inicial\n",
        "while (condicion=condicion final)\n",
        ":\n",
        "    modificador de condicion inicial\n",
        "```\n",
        "Modificadores de condicion final\n",
        "*  Banderas: son booleamos\n",
        "*  son preguntas\n",
        "*  son contadores o acumuladores\n"
      ],
      "metadata": {
        "id": "mxZ5MwCu2nem"
      }
    },
    {
      "cell_type": "markdown",
      "source": [
        "##Listas\n",
        "*Son un conjunto de objetos,\n",
        "**indexado**, separado por comas, y encerrado entre [].\n",
        "*  Todos los elementos dentro de una lista; se empienzan a contar desde 0.\n",
        "###Creacion de listas\n",
        "* Forma general: lista=[]\n",
        "* Forma manual animal=[\"gato\",\"perro\",zorro,\"oso\"]\n",
        "* por conversion numeros=list(range (10))"
      ],
      "metadata": {
        "id": "g57vqg-AwG_D"
      }
    },
    {
      "cell_type": "code",
      "source": [
        "lista= []"
      ],
      "metadata": {
        "id": "efZ4vC8-ywGR"
      },
      "execution_count": 11,
      "outputs": []
    },
    {
      "cell_type": "code",
      "execution_count": 12,
      "metadata": {
        "colab": {
          "base_uri": "https://localhost:8080/"
        },
        "id": "dHoGApy1lO3y",
        "outputId": "fbd5d6a6-5534-424f-fb3d-def329471a2c"
      },
      "outputs": [
        {
          "output_type": "execute_result",
          "data": {
            "text/plain": [
              "list"
            ]
          },
          "metadata": {},
          "execution_count": 12
        }
      ],
      "source": [
        "type(lista)"
      ]
    },
    {
      "cell_type": "code",
      "source": [
        "zorro=(1,2,3,4)\n",
        "animales=[\"gato\",\"perro\",zorro,\"oso\"]\n",
        "animales"
      ],
      "metadata": {
        "colab": {
          "base_uri": "https://localhost:8080/"
        },
        "id": "GkuhG-Xhx8ES",
        "outputId": "ce4c1237-c151-4b31-b846-0c8a359a4a7c"
      },
      "execution_count": 1,
      "outputs": [
        {
          "output_type": "execute_result",
          "data": {
            "text/plain": [
              "['gato', 'perro', (1, 2, 3, 4), 'oso']"
            ]
          },
          "metadata": {},
          "execution_count": 1
        }
      ]
    },
    {
      "cell_type": "code",
      "source": [
        "type(zorro)"
      ],
      "metadata": {
        "colab": {
          "base_uri": "https://localhost:8080/"
        },
        "id": "FnDNIexzyY-K",
        "outputId": "0dfccb89-d129-44ec-c3b0-b9912527f861"
      },
      "execution_count": 4,
      "outputs": [
        {
          "output_type": "execute_result",
          "data": {
            "text/plain": [
              "tuple"
            ]
          },
          "metadata": {},
          "execution_count": 4
        }
      ]
    },
    {
      "cell_type": "code",
      "source": [
        "numero=list(range(10))\n",
        "numero"
      ],
      "metadata": {
        "colab": {
          "base_uri": "https://localhost:8080/"
        },
        "id": "IedORlOYzFP5",
        "outputId": "05b5a359-d88e-4304-c808-993de605921e"
      },
      "execution_count": 13,
      "outputs": [
        {
          "output_type": "execute_result",
          "data": {
            "text/plain": [
              "[0, 1, 2, 3, 4, 5, 6, 7, 8, 9]"
            ]
          },
          "metadata": {},
          "execution_count": 13
        }
      ]
    },
    {
      "cell_type": "code",
      "source": [
        "range(10)"
      ],
      "metadata": {
        "colab": {
          "base_uri": "https://localhost:8080/"
        },
        "id": "QwL4GqBhzSIQ",
        "outputId": "3d05cafa-ad44-439d-bf02-aa03b659c30b"
      },
      "execution_count": 14,
      "outputs": [
        {
          "output_type": "execute_result",
          "data": {
            "text/plain": [
              "range(0, 10)"
            ]
          },
          "metadata": {},
          "execution_count": 14
        }
      ]
    }
  ]
}
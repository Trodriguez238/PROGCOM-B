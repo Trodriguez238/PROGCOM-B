{
  "nbformat": 4,
  "nbformat_minor": 0,
  "metadata": {
    "colab": {
      "provenance": [],
      "authorship_tag": "ABX9TyNv/eBrANIPn9u7SNnFIIbo",
      "include_colab_link": true
    },
    "kernelspec": {
      "name": "python3",
      "display_name": "Python 3"
    },
    "language_info": {
      "name": "python"
    }
  },
  "cells": [
    {
      "cell_type": "markdown",
      "metadata": {
        "id": "view-in-github",
        "colab_type": "text"
      },
      "source": [
        "<a href=\"https://colab.research.google.com/github/Trodriguez238/PROGCOM-B/blob/main/poo_pandequeso.ipynb\" target=\"_parent\"><img src=\"https://colab.research.google.com/assets/colab-badge.svg\" alt=\"Open In Colab\"/></a>"
      ]
    },
    {
      "cell_type": "code",
      "execution_count": 29,
      "metadata": {
        "colab": {
          "base_uri": "https://localhost:8080/"
        },
        "id": "yUds2z-QsTr-",
        "outputId": "c247d391-b9b1-40ff-e7b5-7bb6df558c3d"
      },
      "outputs": [
        {
          "output_type": "stream",
          "name": "stdout",
          "text": [
            " Bienvenido a pandequeso Codificador\n",
            "1. Codificar un mensaje\n",
            "2. Decodificar un mensaje\n",
            "Elige una opción (1 o 2): 2\n",
            "Escribe tu mensaje codificado para decodificar: béla orsór\n",
            "\n",
            " Decodificado: cómo estás\n"
          ]
        }
      ],
      "source": [
        "class pandequeso:\n",
        "    def __init__(self):\n",
        "        self.vocales = 'aeiou'\n",
        "        self.vocales_tilde = 'áéíóú'\n",
        "        self.consonantes = 'bcdfghjklmnñpqrstvwxyz'\n",
        "\n",
        "    def codificar(self, texto):\n",
        "        resultado = ''\n",
        "        for c in texto.lower():\n",
        "            if c in self.vocales:\n",
        "                idx = self.vocales.index(c)\n",
        "                nuevo = self.vocales[(idx + 2) % len(self.vocales)]\n",
        "            elif c in self.vocales_tilde:\n",
        "                idx = self.vocales_tilde.index(c)\n",
        "                nuevo = self.vocales_tilde[(idx - 2) % len(self.vocales_tilde)]\n",
        "            elif c in self.consonantes:\n",
        "                idx = self.consonantes.index(c)\n",
        "                nuevo = self.consonantes[(idx - 1) % len(self.consonantes)]\n",
        "            else:\n",
        "                nuevo = c\n",
        "            resultado += nuevo\n",
        "        return resultado\n",
        "\n",
        "    def decodificar(self, texto):\n",
        "        resultado = ''\n",
        "        for c in texto.lower():\n",
        "            if c in self.vocales:\n",
        "                idx = self.vocales.index(c)\n",
        "                nuevo = self.vocales[(idx - 2) % len(self.vocales)]\n",
        "            elif c in self.vocales_tilde:\n",
        "                idx = self.vocales_tilde.index(c)\n",
        "                nuevo = self.vocales_tilde[(idx + 2) % len(self.vocales_tilde)]\n",
        "            elif c in self.consonantes:\n",
        "                idx = self.consonantes.index(c)\n",
        "                nuevo = self.consonantes[(idx + 1) % len(self.consonantes)]\n",
        "            else:\n",
        "                nuevo = c\n",
        "            resultado += nuevo\n",
        "        return resultado\n",
        "\n",
        "\n",
        "quesito = pandequeso()\n",
        "\n",
        "print(\" Bienvenido a pandequeso Codificador\")\n",
        "print(\"1. Codificar un mensaje\")\n",
        "print(\"2. Decodificar un mensaje\")\n",
        "opcion = input(\"Elige una opción (1 o 2): \")\n",
        "\n",
        "if opcion == '1':\n",
        "    mensaje = input(\"Escribe tu mensaje normal para codificar: \")\n",
        "    codificado = quesito.codificar(mensaje)\n",
        "    print(\"\\n Codificado:\", codificado)\n",
        "\n",
        "elif opcion == '2':\n",
        "    mensaje = input(\"Escribe tu mensaje codificado para decodificar: \")\n",
        "    decodificado = quesito.decodificar(mensaje)\n",
        "    print(\"\\n Decodificado:\", decodificado)\n",
        "\n",
        "else:\n",
        "    print(\" Opción no válida. Por favor elige 1 o 2.\")\n",
        "\n",
        "\n"
      ]
    },
    {
      "cell_type": "code",
      "source": [
        "quesito = pandequeso()\n",
        "mensaje = \"hola\"\n",
        "codificado = quesito.codificar(mensaje)\n",
        "decodificado = quesito.decodificar(codificado)"
      ],
      "metadata": {
        "id": "2FyIODu3uJYt"
      },
      "execution_count": 14,
      "outputs": []
    }
  ]
}
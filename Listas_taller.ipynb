{
  "nbformat": 4,
  "nbformat_minor": 0,
  "metadata": {
    "colab": {
      "provenance": [],
      "authorship_tag": "ABX9TyOdMI/Ryqg86nZPnH13k+MV",
      "include_colab_link": true
    },
    "kernelspec": {
      "name": "python3",
      "display_name": "Python 3"
    },
    "language_info": {
      "name": "python"
    }
  },
  "cells": [
    {
      "cell_type": "markdown",
      "metadata": {
        "id": "view-in-github",
        "colab_type": "text"
      },
      "source": [
        "<a href=\"https://colab.research.google.com/github/Trodriguez238/PROGCOM-B/blob/main/Listas_taller.ipynb\" target=\"_parent\"><img src=\"https://colab.research.google.com/assets/colab-badge.svg\" alt=\"Open In Colab\"/></a>"
      ]
    },
    {
      "cell_type": "code",
      "execution_count": 2,
      "metadata": {
        "colab": {
          "base_uri": "https://localhost:8080/"
        },
        "id": "DrQilghHY8p_",
        "outputId": "99ddf43b-f67e-4970-f8f9-cb99c7302211"
      },
      "outputs": [
        {
          "output_type": "execute_result",
          "data": {
            "text/plain": [
              "[1, 4, 9, 16, 25, 36, 49, 64, 81, 100]"
            ]
          },
          "metadata": {},
          "execution_count": 2
        }
      ],
      "source": [
        "#1.Crear una lista con los cuadrados de los números del 1 al 10.\n",
        "numeros_cuadrados = [i ** 2 for i in range(1,11)]\n",
        "numeros_cuadrados"
      ]
    },
    {
      "cell_type": "code",
      "source": [
        "#2.Obtener una lista con los números pares del 0 al 20.\n",
        "numerospares = [i for i in range(1,21) if i%2 == 0]\n",
        "numerospares"
      ],
      "metadata": {
        "colab": {
          "base_uri": "https://localhost:8080/"
        },
        "id": "DsBDgEg2a09L",
        "outputId": "ac51b0fe-9881-4954-d788-4ac0e0bd61db"
      },
      "execution_count": 3,
      "outputs": [
        {
          "output_type": "execute_result",
          "data": {
            "text/plain": [
              "[2, 4, 6, 8, 10, 12, 14, 16, 18, 20]"
            ]
          },
          "metadata": {},
          "execution_count": 3
        }
      ]
    },
    {
      "cell_type": "code",
      "source": [
        "#3.Crear una lista con el doble de cada número del 1 al 5.\n",
        "numerosdobles = [i * 2 for i in range(1,6)]\n",
        "numerosdobles"
      ],
      "metadata": {
        "colab": {
          "base_uri": "https://localhost:8080/"
        },
        "id": "isClTB8ua-2E",
        "outputId": "7fbd37e9-379f-4d8c-82e7-491939c42d60"
      },
      "execution_count": 4,
      "outputs": [
        {
          "output_type": "execute_result",
          "data": {
            "text/plain": [
              "[2, 4, 6, 8, 10]"
            ]
          },
          "metadata": {},
          "execution_count": 4
        }
      ]
    },
    {
      "cell_type": "code",
      "source": [
        "#4. De la palabra \"programacion\", obtener solo las vocales.\n",
        "palabra = \"programacion\"\n",
        "vocales = [letra for letra in palabra if letra in \"aeiou\"]\n",
        "vocales"
      ],
      "metadata": {
        "colab": {
          "base_uri": "https://localhost:8080/"
        },
        "id": "SWHcY1HobQJZ",
        "outputId": "066d2b78-41d8-4ddb-ecf2-1cef2b826a95"
      },
      "execution_count": 5,
      "outputs": [
        {
          "output_type": "execute_result",
          "data": {
            "text/plain": [
              "['o', 'a', 'a', 'i', 'o']"
            ]
          },
          "metadata": {},
          "execution_count": 5
        }
      ]
    },
    {
      "cell_type": "code",
      "source": [
        "#5. Dada la lista [\"python\", \"java\", \"c++\"], obtener otra lista con las palabras en mayúsculas.\n",
        "Programas = [\"python\", \"java\", \"c++\"]\n",
        "Mayúsculas = [i.upper() for i in Programas]\n",
        "Mayúsculas"
      ],
      "metadata": {
        "colab": {
          "base_uri": "https://localhost:8080/"
        },
        "id": "56l4KgP5bcXo",
        "outputId": "08c94fff-d52f-4ac2-adf9-7877fd94bdae"
      },
      "execution_count": 6,
      "outputs": [
        {
          "output_type": "execute_result",
          "data": {
            "text/plain": [
              "['PYTHON', 'JAVA', 'C++']"
            ]
          },
          "metadata": {},
          "execution_count": 6
        }
      ]
    },
    {
      "cell_type": "code",
      "source": [
        "#6. Crear una lista con \"par\" o \"impar\" para los números del 1 al 10.\n",
        "Listanumeros = [1,2,3,4,5,6,7,8,9,10]\n",
        "clasificacion = [(\"par\",x) if x%2==0 else (\"impar\",x) for x in Listanumeros]\n",
        "clasificacion"
      ],
      "metadata": {
        "colab": {
          "base_uri": "https://localhost:8080/"
        },
        "id": "a_m35JV9bnTT",
        "outputId": "2f56748c-5b84-41b1-aa51-5d02900ba121"
      },
      "execution_count": 7,
      "outputs": [
        {
          "output_type": "execute_result",
          "data": {
            "text/plain": [
              "[('impar', 1),\n",
              " ('par', 2),\n",
              " ('impar', 3),\n",
              " ('par', 4),\n",
              " ('impar', 5),\n",
              " ('par', 6),\n",
              " ('impar', 7),\n",
              " ('par', 8),\n",
              " ('impar', 9),\n",
              " ('par', 10)]"
            ]
          },
          "metadata": {},
          "execution_count": 7
        }
      ]
    },
    {
      "cell_type": "code",
      "source": [
        "#7. Generar una lista de tuplas con el número y su cuadrado del 1 al 5.\n",
        "Listanumeros = [1,2,3,4,5]\n",
        "numerosCuadrados = [(x, \"su cuadrado es\" ,x**2 ) for x in Listanumeros]\n",
        "numerosCuadrados"
      ],
      "metadata": {
        "colab": {
          "base_uri": "https://localhost:8080/"
        },
        "id": "obCKV5oqbzkY",
        "outputId": "ab3faca2-da65-4555-eb4d-2429a826e7d7"
      },
      "execution_count": 8,
      "outputs": [
        {
          "output_type": "execute_result",
          "data": {
            "text/plain": [
              "[(1, 'su cuadrado es', 1),\n",
              " (2, 'su cuadrado es', 4),\n",
              " (3, 'su cuadrado es', 9),\n",
              " (4, 'su cuadrado es', 16),\n",
              " (5, 'su cuadrado es', 25)]"
            ]
          },
          "metadata": {},
          "execution_count": 8
        }
      ]
    },
    {
      "cell_type": "code",
      "source": [
        "#8. Crear una lista con todas las combinaciones de letras en [\"a\",\"b\"] y números en [1,2,3].\n",
        "Letras = [\"a\",\"b\"]\n",
        "numeros = [1,2,3]\n",
        "Combinados = [(letra,Numero) for letra in Letras for Numero in numeros]\n",
        "Combinados"
      ],
      "metadata": {
        "colab": {
          "base_uri": "https://localhost:8080/"
        },
        "id": "koRu70wGc5SJ",
        "outputId": "ba9835db-ad28-434e-86b7-ae935ad79ad7"
      },
      "execution_count": 14,
      "outputs": [
        {
          "output_type": "execute_result",
          "data": {
            "text/plain": [
              "[('a', 1), ('a', 2), ('a', 3), ('b', 1), ('b', 2), ('b', 3)]"
            ]
          },
          "metadata": {},
          "execution_count": 14
        }
      ]
    },
    {
      "cell_type": "code",
      "source": [
        "#9. De la lista [\"sol\", \"estrella\", \"mar\", \"planeta\"], obtener solo las palabras con más de 4 letras.\n",
        "palabras =[\"sol\", \"estrella\", \"mar\", \"planeta\"]\n",
        "filtro = [i for i in palabras if len(i) > 4]\n",
        "filtro"
      ],
      "metadata": {
        "colab": {
          "base_uri": "https://localhost:8080/"
        },
        "id": "Qv_e97DyddXn",
        "outputId": "5adf4240-191e-4e25-9e4c-a307e245bd37"
      },
      "execution_count": 11,
      "outputs": [
        {
          "output_type": "execute_result",
          "data": {
            "text/plain": [
              "['estrella', 'planeta']"
            ]
          },
          "metadata": {},
          "execution_count": 11
        }
      ]
    },
    {
      "cell_type": "code",
      "source": [
        "#Clasificar la temperatura de una lista. Si la temperatura es menor a 26, el clima es \"frío\". Si está entre 26 a 29, es \"templado\". Si es mayor a 29, el clima es \"caliente\"\n",
        "n=list(range(1,31))\n",
        "lista_clima=[(\"frío\",x) if x<26 else (\"templado\",x) if x>=26 and x<=29 else (\"caliente\",x) for x in n]\n",
        "lista_clima"
      ],
      "metadata": {
        "colab": {
          "base_uri": "https://localhost:8080/"
        },
        "id": "hwBanAQtddOQ",
        "outputId": "68e4d44f-e76a-4df5-da21-60bca522ae56"
      },
      "execution_count": 13,
      "outputs": [
        {
          "output_type": "execute_result",
          "data": {
            "text/plain": [
              "[('frío', 1),\n",
              " ('frío', 2),\n",
              " ('frío', 3),\n",
              " ('frío', 4),\n",
              " ('frío', 5),\n",
              " ('frío', 6),\n",
              " ('frío', 7),\n",
              " ('frío', 8),\n",
              " ('frío', 9),\n",
              " ('frío', 10),\n",
              " ('frío', 11),\n",
              " ('frío', 12),\n",
              " ('frío', 13),\n",
              " ('frío', 14),\n",
              " ('frío', 15),\n",
              " ('frío', 16),\n",
              " ('frío', 17),\n",
              " ('frío', 18),\n",
              " ('frío', 19),\n",
              " ('frío', 20),\n",
              " ('frío', 21),\n",
              " ('frío', 22),\n",
              " ('frío', 23),\n",
              " ('frío', 24),\n",
              " ('frío', 25),\n",
              " ('templado', 26),\n",
              " ('templado', 27),\n",
              " ('templado', 28),\n",
              " ('templado', 29),\n",
              " ('caliente', 30)]"
            ]
          },
          "metadata": {},
          "execution_count": 13
        }
      ]
    }
  ]
}
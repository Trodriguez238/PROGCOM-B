{
  "nbformat": 4,
  "nbformat_minor": 0,
  "metadata": {
    "colab": {
      "provenance": []
    },
    "kernelspec": {
      "name": "python3",
      "display_name": "Python 3"
    },
    "language_info": {
      "name": "python"
    }
  },
  "cells": [
    {
      "cell_type": "markdown",
      "source": [
        "Ejercicio 1\n"
      ],
      "metadata": {
        "id": "8f3AetWrp4jU"
      }
    },
    {
      "cell_type": "code",
      "source": [
        "numero=2\n",
        "input(\"digite un numero\")\n",
        "if numero >0:\n",
        " print(\"el numero es positivo\")\n"
      ],
      "metadata": {
        "colab": {
          "base_uri": "https://localhost:8080/"
        },
        "id": "Z-RXTh-AqLbL",
        "outputId": "6734efac-5b55-4cb8-c4ed-eb0076f21141"
      },
      "execution_count": 37,
      "outputs": [
        {
          "output_type": "stream",
          "name": "stdout",
          "text": [
            "digite un numero2\n",
            "el numero es positivo\n"
          ]
        }
      ]
    },
    {
      "cell_type": "markdown",
      "source": [
        "ejercicio 2"
      ],
      "metadata": {
        "id": "IID0BkrHu7mn"
      }
    },
    {
      "cell_type": "code",
      "source": [
        "x=int(input(\"digite un numero:\"))\n",
        "if x >=18:\n",
        "    print(\"eres mayor de edad\")\n"
      ],
      "metadata": {
        "colab": {
          "base_uri": "https://localhost:8080/"
        },
        "id": "-4b_EBBQu9of",
        "outputId": "4a9f7881-6fb6-4f50-a6ab-fdcbd62b9e27"
      },
      "execution_count": 51,
      "outputs": [
        {
          "output_type": "stream",
          "name": "stdout",
          "text": [
            "digite un numero:21\n",
            "eres mayor de edad\n"
          ]
        }
      ]
    },
    {
      "cell_type": "markdown",
      "source": [
        "Ejercicio 3"
      ],
      "metadata": {
        "id": "sjevq4bjxV2N"
      }
    },
    {
      "cell_type": "code",
      "source": [
        "x=int(input(\"digite un numero::\"))\n",
        "y=int(input(\"digite otro numero::\"))\n",
        "if x <=y:\n",
        "    print(y)\n"
      ],
      "metadata": {
        "colab": {
          "base_uri": "https://localhost:8080/"
        },
        "id": "r0bR8y9JtfkI",
        "outputId": "6dcf2c42-687e-4102-e4fe-4e2d01089333"
      },
      "execution_count": 53,
      "outputs": [
        {
          "output_type": "stream",
          "name": "stdout",
          "text": [
            "digite un numero::2\n",
            "digite otro numero::5\n",
            "5\n"
          ]
        }
      ]
    },
    {
      "cell_type": "markdown",
      "source": [
        "Ejercicio 4"
      ],
      "metadata": {
        "id": "WQmWwt58xwRU"
      }
    },
    {
      "cell_type": "code",
      "source": [
        "x=int(input(\"digite un numero:\"))\n",
        "if x >=60:\n",
        "    print(\"aprobado\")\n",
        "else:\n",
        " print(\"reprobado\")"
      ],
      "metadata": {
        "colab": {
          "base_uri": "https://localhost:8080/"
        },
        "outputId": "2caf98d2-708c-4be3-9e9b-7c51a9eee8ff",
        "id": "Nto9QgvBx9YM"
      },
      "execution_count": 72,
      "outputs": [
        {
          "output_type": "stream",
          "name": "stdout",
          "text": [
            "digite un numero:67\n",
            "aprobado\n"
          ]
        }
      ]
    },
    {
      "cell_type": "markdown",
      "source": [
        "Ejercicio 5"
      ],
      "metadata": {
        "id": "NwAxlql0zzcC"
      }
    },
    {
      "cell_type": "code",
      "source": [
        "x=int(input(\"digite un numero:\"))\n",
        "if x%2:\n",
        "    print(\"impar\")\n",
        "else:\n",
        " print(\"par\")"
      ],
      "metadata": {
        "colab": {
          "base_uri": "https://localhost:8080/"
        },
        "id": "_3CMNdVuz5Cp",
        "outputId": "2f4456d5-812d-4a32-e0ea-e3c2b5387e72"
      },
      "execution_count": 81,
      "outputs": [
        {
          "output_type": "stream",
          "name": "stdout",
          "text": [
            "digite un numero:2\n",
            "par\n"
          ]
        }
      ]
    },
    {
      "cell_type": "markdown",
      "source": [
        "ejercicio 5"
      ],
      "metadata": {
        "id": "8zDM6cPS1jR4"
      }
    },
    {
      "cell_type": "code",
      "source": [
        "x=int(input(\"digite un numero:\"))\n",
        "y=int(input(\"digite un numero:\"))\n",
        "z=int(input(\"digite un numero:\"))\n",
        "if x>y>z :\n",
        "    print(x)\n",
        "else x<y>z:\n",
        "    print(y)\n",
        "\n",
        "\n",
        ""
      ],
      "metadata": {
        "colab": {
          "base_uri": "https://localhost:8080/",
          "height": 106
        },
        "id": "qXFOpjR61mHQ",
        "outputId": "a5b385a0-0eac-4277-8ea0-d8690841b175"
      },
      "execution_count": 93,
      "outputs": [
        {
          "output_type": "error",
          "ename": "SyntaxError",
          "evalue": "expected ':' (ipython-input-3364668950.py, line 6)",
          "traceback": [
            "\u001b[0;36m  File \u001b[0;32m\"/tmp/ipython-input-3364668950.py\"\u001b[0;36m, line \u001b[0;32m6\u001b[0m\n\u001b[0;31m    else x<y>z:\u001b[0m\n\u001b[0m         ^\u001b[0m\n\u001b[0;31mSyntaxError\u001b[0m\u001b[0;31m:\u001b[0m expected ':'\n"
          ]
        }
      ]
    },
    {
      "cell_type": "markdown",
      "source": [
        "##Ejercicios de seleccion"
      ],
      "metadata": {
        "id": "ahXsZx0NoFk1"
      }
    },
    {
      "cell_type": "markdown",
      "source": [
        "#Prueba diagnostica"
      ],
      "metadata": {
        "id": "JiG8dlDun1Ed"
      }
    },
    {
      "cell_type": "code",
      "execution_count": null,
      "metadata": {
        "id": "udP4RtKVnBMt"
      },
      "outputs": [],
      "source": []
    }
  ]
}
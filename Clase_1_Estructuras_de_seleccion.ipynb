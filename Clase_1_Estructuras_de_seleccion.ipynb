{
  "nbformat": 4,
  "nbformat_minor": 0,
  "metadata": {
    "colab": {
      "provenance": [],
      "authorship_tag": "ABX9TyNdIQtBij3L+oL5MfBLYJG/",
      "include_colab_link": true
    },
    "kernelspec": {
      "name": "python3",
      "display_name": "Python 3"
    },
    "language_info": {
      "name": "python"
    }
  },
  "cells": [
    {
      "cell_type": "markdown",
      "metadata": {
        "id": "view-in-github",
        "colab_type": "text"
      },
      "source": [
        "<a href=\"https://colab.research.google.com/github/Trodriguez238/PROGCOM-B/blob/main/Clase_1_Estructuras_de_seleccion.ipynb\" target=\"_parent\"><img src=\"https://colab.research.google.com/assets/colab-badge.svg\" alt=\"Open In Colab\"/></a>"
      ]
    },
    {
      "cell_type": "markdown",
      "source": [
        "#Estructuras de seleccion\n",
        "Se emplean cuando quiero evealuar una condicion.El resultado de la evaluacion de esta condicion siempre se da booleano."
      ],
      "metadata": {
        "id": "u31qFgGZLVR9"
      }
    },
    {
      "cell_type": "markdown",
      "source": [
        "##Estructura if-else\n",
        "\n",
        "\n",
        "\n",
        "```\n",
        "If (condicion):\n",
        "    entro aqui. si la condicion dio V\n",
        "else:\n",
        "    entro aqui, si la condicion = F\n",
        "```\n",
        "\n"
      ],
      "metadata": {
        "id": "cHyQkTP1MCEs"
      }
    },
    {
      "cell_type": "code",
      "source": [
        "7 Año bisiesto"
      ],
      "metadata": {
        "id": "OPYwWoCGM2Gt"
      },
      "execution_count": null,
      "outputs": []
    },
    {
      "cell_type": "code",
      "execution_count": null,
      "metadata": {
        "colab": {
          "base_uri": "https://localhost:8080/"
        },
        "id": "WRDKPxvLKzjB",
        "outputId": "7bfa8554-391c-44ea-d99d-81e012ccf5ed"
      },
      "outputs": [
        {
          "output_type": "stream",
          "name": "stdout",
          "text": [
            "introduzca un año:2024\n",
            "2024 es un año bisiesto\n"
          ]
        }
      ],
      "source": [
        "#1. Es divisible entre 4\n",
        "#2. Es divisible entre 400 pero no entre 100\n",
        "año=int(input(\"introduzca un año:\"))\n",
        "if (año%4 and añod%100!=0):\n",
        "    print(f\"{año} es un año bisisesto \")\n",
        "else:\n",
        "    if (año%4==0):\n",
        "        print(f\"{año} es un año bisiesto\")\n",
        "    else:\n",
        "        print(f\"{año} No es un año bisiesto\")\n",
        "\n",
        "\n"
      ]
    },
    {
      "cell_type": "markdown",
      "source": [
        "##Estrucutra de decision multiple if-elif-else\n",
        "Se emplea cuando hay mas de una decision\n",
        "\n",
        "```\n",
        "if (cond1):\n",
        " si cond1 es verdadero, entro aqui\n",
        "elif(cond2):\n",
        "si cond es falso, pero cond2 es verdadero, entro aqui\n",
        "elif(cond3):\n",
        "si cond1 y cond2 son falso, PERO con 3 es verdadero, entro aqui\n",
        "esle: si cond1 y cond2 y cond3 y cond n son falsas,entrara aqui\n",
        "```\n",
        "\n"
      ],
      "metadata": {
        "id": "tZ0wvp56PNMa"
      }
    },
    {
      "cell_type": "code",
      "source": [
        "if (año%4 and añod%100!=0):print(f\"{año} es un año bisisesto \")\n",
        "elif (año%4==0):print(f\"{año} es un año bisiesto\")\n",
        "else:print(f\"{año} No es un año bisiesto\")"
      ],
      "metadata": {
        "colab": {
          "base_uri": "https://localhost:8080/"
        },
        "id": "8JWwKvnxQVfa",
        "outputId": "f6c935a8-0019-4726-9b78-c9840c76dda5"
      },
      "execution_count": null,
      "outputs": [
        {
          "output_type": "stream",
          "name": "stdout",
          "text": [
            "2024 es un año bisiesto\n"
          ]
        }
      ]
    },
    {
      "cell_type": "markdown",
      "source": [
        "##Operador terciario\n",
        "programar una estructura de seleccion es una sola linea de codigo\n",
        "\n",
        "\n",
        "```\n",
        "(Lo que se debe ejecutar, si la condicion es verdadera) if (condicion) else (lo que se debe ejecutar si la condicion es falsa)\n",
        "\n"
      ],
      "metadata": {
        "id": "L86oNPXZVw3t"
      }
    },
    {
      "cell_type": "code",
      "source": [
        "a=f\"{año} es un año bisiesto\" if (año%4==0 and año%100!=0) else b\n",
        "b=f\"{año} es un año bisiesto\" if año%400==0 else f\"{año}NO es un año bisiesto\"\n",
        "print(a)"
      ],
      "metadata": {
        "colab": {
          "base_uri": "https://localhost:8080/"
        },
        "id": "Zz-JA6HXYN3N",
        "outputId": "354b319e-2037-4c6b-d56c-d67869e29977"
      },
      "execution_count": null,
      "outputs": [
        {
          "output_type": "stream",
          "name": "stdout",
          "text": [
            "2024 es un año bisiesto\n"
          ]
        }
      ]
    },
    {
      "cell_type": "markdown",
      "source": [
        "Ejercicio 1"
      ],
      "metadata": {
        "id": "9B9LIvjJTBBY"
      }
    },
    {
      "cell_type": "code",
      "execution_count": null,
      "metadata": {
        "colab": {
          "base_uri": "https://localhost:8080/"
        },
        "outputId": "5f17f8ab-28a2-4745-9800-ad9a2a49eebe",
        "id": "d_XDMJugTEkh"
      },
      "outputs": [
        {
          "output_type": "stream",
          "name": "stdout",
          "text": [
            "introduzca un numero:21\n",
            "21 es un numero numero positvo \n"
          ]
        }
      ],
      "source": [
        "#1. Es mayor que 0\n",
        "numero=int(input(\"introduzca un numero:\"))\n",
        "if (numero>0):\n",
        "    print(f\"{numero} es un numero numero positvo \")\n",
        "else:\n",
        "        print(f\"{numero} No es un numero positivo\")\n",
        "\n",
        "\n"
      ]
    },
    {
      "cell_type": "code",
      "source": [
        "#1. sea mayor que 0\n",
        "numero=int(input(\"introduzca un numero:\"))\n",
        "if (numero>0 ):print(f\"{numero} es un numero positivo \")\n",
        "elif(numero==0):print(f\"{numero} es el primer numero nautal positivo \")\n",
        "else:print(f\"{numero} No es un numero positivo\")"
      ],
      "metadata": {
        "colab": {
          "base_uri": "https://localhost:8080/"
        },
        "id": "S9WBFjWFT4C3",
        "outputId": "62924190-7126-49ce-d752-2a970b1ed4c1"
      },
      "execution_count": null,
      "outputs": [
        {
          "output_type": "stream",
          "name": "stdout",
          "text": [
            "introduzca un numero:-9\n",
            "-9 No es un numero positivo\n"
          ]
        }
      ]
    },
    {
      "cell_type": "code",
      "source": [
        "print(f\"{numero} Es un numero positivo\") if (numero > 0) else print(f\"{numero} No es un numero positivo\")"
      ],
      "metadata": {
        "colab": {
          "base_uri": "https://localhost:8080/"
        },
        "id": "WOjzkMn_cwwB",
        "outputId": "6f425c08-a0d6-40ce-fd7a-6c37d11dd1e2"
      },
      "execution_count": null,
      "outputs": [
        {
          "output_type": "stream",
          "name": "stdout",
          "text": [
            "21 Es un numero positivo\n"
          ]
        }
      ]
    },
    {
      "cell_type": "markdown",
      "source": [
        "Ejercicio 2"
      ],
      "metadata": {
        "id": "Pv5YleugU4nm"
      }
    },
    {
      "cell_type": "code",
      "source": [
        "#1. Es mayor de 18\n",
        "#2 Es mayor de 21\n",
        "numero=int(input(\"introduzca un numero:\"))\n",
        "if (numero>=18):\n",
        "    print(f\"{numero} es mayor de edad  \")\n",
        "else:\n",
        "        print(f\"{numero} No es mayor de edad\")"
      ],
      "metadata": {
        "colab": {
          "base_uri": "https://localhost:8080/"
        },
        "id": "ySNe0xnDU2d2",
        "outputId": "45d5d0c7-d157-4881-808e-f40aa2f2c66d"
      },
      "execution_count": null,
      "outputs": [
        {
          "output_type": "stream",
          "name": "stdout",
          "text": [
            "introduzca un numero:12\n",
            "12 No es mayor de edad\n"
          ]
        }
      ]
    },
    {
      "cell_type": "code",
      "source": [],
      "metadata": {
        "id": "uHhZQ3dLb3K6"
      },
      "execution_count": null,
      "outputs": []
    },
    {
      "cell_type": "code",
      "source": [
        "#1. Es mayor de 18\n",
        "#2 Es mayor de 21\n",
        "numero=int(input(\"introduzca un numero:\"))\n",
        "if (numero>=21):\n",
        "    print(f\"{numero} es mayor de edad en USA  \")\n",
        "elif (numero>=18):\n",
        "    print(f\"{numero} es mayor de edad colombia  \")\n",
        "else:\n",
        "        print(f\"{numero} No es mayor de edad\")"
      ],
      "metadata": {
        "colab": {
          "base_uri": "https://localhost:8080/"
        },
        "outputId": "d4de21ba-7750-4430-e01e-76835361acc0",
        "id": "CCrfC34nb3iq"
      },
      "execution_count": null,
      "outputs": [
        {
          "output_type": "stream",
          "name": "stdout",
          "text": [
            "introduzca un numero:13\n",
            "13 No es mayor de edad\n"
          ]
        }
      ]
    },
    {
      "cell_type": "code",
      "source": [
        "print(f\"{numero} Es mayor de edad\") if (numero >= 18) else print(f\"{numero} No es mayor de edad\")"
      ],
      "metadata": {
        "colab": {
          "base_uri": "https://localhost:8080/"
        },
        "id": "kMYwo9fOcSoh",
        "outputId": "9169d620-aa56-4411-c91f-fe4e6a4183a9"
      },
      "execution_count": null,
      "outputs": [
        {
          "output_type": "stream",
          "name": "stdout",
          "text": [
            "13 No es mayor de edad\n"
          ]
        }
      ]
    },
    {
      "cell_type": "markdown",
      "source": [
        "Ejercicio 3"
      ],
      "metadata": {
        "id": "mR0hK5P1eeHg"
      }
    },
    {
      "cell_type": "code",
      "source": [
        "x=int(input(\"digite un numero::\"))\n",
        "y=int(input(\"digite otro numero::\"))\n",
        "if x>=y:\n",
        "    print(x)\n",
        "else:\n",
        "    print()\n",
        "\n"
      ],
      "metadata": {
        "colab": {
          "base_uri": "https://localhost:8080/"
        },
        "outputId": "4d3f1e93-08e3-4ffa-8a30-014f173f39da",
        "id": "4yRuIg-MdYzJ"
      },
      "execution_count": null,
      "outputs": [
        {
          "output_type": "stream",
          "name": "stdout",
          "text": [
            "digite un numero::2\n",
            "digite otro numero::34\n",
            "\n"
          ]
        }
      ]
    },
    {
      "cell_type": "code",
      "source": [
        "x=int(input(\"digite un numero::\"))\n",
        "y=int(input(\"digite otro numero::\"))\n",
        "if x>y:\n",
        "    print(x)\n",
        "elif(x==y):\n",
        "    print(\"los numeros son iguales\")\n",
        "else:\n",
        "    print()\n",
        "\n"
      ],
      "metadata": {
        "id": "E1-4nKqTexjI"
      },
      "execution_count": null,
      "outputs": []
    },
    {
      "cell_type": "code",
      "source": [
        "x=int(input(\"digite un numero::\"))\n",
        "y=int(input(\"digite otro numero::\"))\n",
        "print(x) if (x>y) else print()"
      ],
      "metadata": {
        "id": "E9_h1hXvd1nZ",
        "outputId": "b17866fb-db76-499a-bca8-ab73de51c9e6",
        "colab": {
          "base_uri": "https://localhost:8080/"
        }
      },
      "execution_count": 4,
      "outputs": [
        {
          "output_type": "stream",
          "name": "stdout",
          "text": [
            "digite un numero::23\n",
            "digite otro numero::45\n",
            "\n"
          ]
        }
      ]
    },
    {
      "cell_type": "markdown",
      "source": [
        "Ejercicio 4"
      ],
      "metadata": {
        "id": "7YHQEr8kggLP"
      }
    },
    {
      "cell_type": "code",
      "source": [
        "calificacion = int(input(\"Ingrese la calificación (0-100): \"))\n",
        "if calificacion >= 60:\n",
        "    print(\"Aprobado\")\n",
        "else:\n",
        "    print(\"Reprobado\")"
      ],
      "metadata": {
        "id": "7o4-LsYUghdx",
        "outputId": "e6fd9e33-09c8-432f-b0eb-ef06b55e4538",
        "colab": {
          "base_uri": "https://localhost:8080/"
        }
      },
      "execution_count": 6,
      "outputs": [
        {
          "output_type": "stream",
          "name": "stdout",
          "text": [
            "Ingrese la calificación (0-100): 76\n",
            "Aprobado\n"
          ]
        }
      ]
    },
    {
      "cell_type": "code",
      "source": [
        "calificacion = int(input(\"Ingrese la calificación (0-100): \"))\n",
        "if calificacion == 100:\n",
        "    print(\"eximido\")\n",
        "elif calificacion >=60:\n",
        "    print(\"aprobado\")\n",
        "else:\n",
        "    print(\"Reprobado\")"
      ],
      "metadata": {
        "id": "QQ7hVoWWgvbX",
        "outputId": "693bb1a0-5a25-4c33-8ec8-433f4bb6cca3",
        "colab": {
          "base_uri": "https://localhost:8080/"
        }
      },
      "execution_count": 9,
      "outputs": [
        {
          "output_type": "stream",
          "name": "stdout",
          "text": [
            "Ingrese la calificación (0-100): 23\n",
            "Reprobado\n"
          ]
        }
      ]
    },
    {
      "cell_type": "code",
      "source": [
        "calificacion = int(input(\"Ingrese la calificación (0-100): \")); print(\"Aprobado\" if calificacion >= 60 else \"Reprobado\")"
      ],
      "metadata": {
        "id": "6e0PNeIJhXa6",
        "outputId": "15dd458f-6b0b-47f2-df27-6dcddb3a6e6a",
        "colab": {
          "base_uri": "https://localhost:8080/"
        }
      },
      "execution_count": 11,
      "outputs": [
        {
          "output_type": "stream",
          "name": "stdout",
          "text": [
            "Ingrese la calificación (0-100): 45\n",
            "Reprobado\n"
          ]
        }
      ]
    },
    {
      "cell_type": "markdown",
      "source": [
        "Ejercicio 5"
      ],
      "metadata": {
        "id": "SQW127dRhkCA"
      }
    },
    {
      "cell_type": "code",
      "source": [
        "numero = int(input(\"Ingrese un número: \"))\n",
        "if numero % 2 == 0:\n",
        "    print(\"Par\")\n",
        "else:\n",
        "    print(\"Impar\")"
      ],
      "metadata": {
        "id": "EkYNxvUhhoAg"
      },
      "execution_count": null,
      "outputs": []
    },
    {
      "cell_type": "code",
      "source": [
        "numero = int(input(\"Ingrese un número: \"))\n",
        "if numero  == 0:\n",
        "    print(\"primer par positivo\")\n",
        "elif numero % 2== 0:\n",
        "    print(\"par\")\n",
        "else :\n",
        "    print (\"impar\")"
      ],
      "metadata": {
        "id": "c_IBMwAqhtli",
        "outputId": "61696273-2232-4ad1-bd07-cd3d1d5cb543",
        "colab": {
          "base_uri": "https://localhost:8080/"
        }
      },
      "execution_count": 17,
      "outputs": [
        {
          "output_type": "stream",
          "name": "stdout",
          "text": [
            "Ingrese un número: 2\n",
            "par\n"
          ]
        }
      ]
    },
    {
      "cell_type": "code",
      "source": [
        "numero = int(input(\"Ingrese un número: \")); print(\"Par\" if numero % 2 == 0 else \"Impar\")"
      ],
      "metadata": {
        "id": "Z3PwdQ5kitSq",
        "outputId": "5e8b5486-9e16-4bc8-c2b4-3e460483426c",
        "colab": {
          "base_uri": "https://localhost:8080/"
        }
      },
      "execution_count": 19,
      "outputs": [
        {
          "output_type": "stream",
          "name": "stdout",
          "text": [
            "Ingrese un número: 9\n",
            "Impar\n"
          ]
        }
      ]
    },
    {
      "cell_type": "markdown",
      "source": [
        "Ejercicio 6"
      ],
      "metadata": {
        "id": "GEljWR0Ji6Vf"
      }
    },
    {
      "cell_type": "code",
      "source": [
        "a =int(input(\"Ingrese un numero: \"))\n",
        "b =int(input(\"Ingrese un numero: \"))\n",
        "c = int(input(\"Ingrese un numero:\"))\n",
        "if a >= b and a >= c:\n",
        "    print(a)\n",
        "else:\n",
        "    if b >= a and b >= c:\n",
        "        print(b)\n",
        "    else:\n",
        "        print(c)"
      ],
      "metadata": {
        "id": "CWCIkqPwi8EA",
        "outputId": "caf84f46-7afd-46aa-e225-ca99542b4251",
        "colab": {
          "base_uri": "https://localhost:8080/"
        }
      },
      "execution_count": 30,
      "outputs": [
        {
          "output_type": "stream",
          "name": "stdout",
          "text": [
            "Ingrese un numero: 2\n",
            "Ingrese un numero: 4\n",
            "Ingrese un numero:1\n",
            "4\n"
          ]
        }
      ]
    },
    {
      "cell_type": "code",
      "source": [
        "a = int(input(\"Ingrese un numero: \"))\n",
        "b = int(input(\"Ingrese un numero: \"))\n",
        "c = int(input(\"Ingrese un numero: \"))\n",
        "\n",
        "if a >= b and a >= c:\n",
        "    print(a)\n",
        "elif b >= a and b >= c:\n",
        "    print(b)\n",
        "else:\n",
        "    print(c)"
      ],
      "metadata": {
        "id": "m2nfmNxujB5w"
      },
      "execution_count": null,
      "outputs": []
    },
    {
      "cell_type": "code",
      "source": [
        "a = int(input(\"Ingrese un numero: \")); b = int(input(\"Ingrese un numero: \")); c = int(input(\"Ingrese un numero: \")); print(a if a >= b and a >= c else b if b >= a and b >= c else c)"
      ],
      "metadata": {
        "id": "h00LGTh2jC3k",
        "outputId": "eac80cf6-66a4-454b-90dd-d23c2ef1f8c6",
        "colab": {
          "base_uri": "https://localhost:8080/"
        }
      },
      "execution_count": 31,
      "outputs": [
        {
          "output_type": "stream",
          "name": "stdout",
          "text": [
            "Ingrese un numero: 3\n",
            "Ingrese un numero: 28\n",
            "Ingrese un numero: 4\n",
            "28\n"
          ]
        }
      ]
    },
    {
      "cell_type": "markdown",
      "source": [
        "Ejercicio 8"
      ],
      "metadata": {
        "id": "k6Z_oSBFlQ9q"
      }
    },
    {
      "cell_type": "code",
      "source": [
        "contraseña = input(\"Ingrese una contraseña: \")\n",
        "valida = True\n",
        "\n",
        "# Verificar longitud\n",
        "if len(contraseña) <= 8:\n",
        "    print(\"No válida: debe tener más de 8 caracteres\")\n",
        "    valida = False\n",
        "else:\n",
        "    # Verificar mayúscula\n",
        "    tiene_mayuscula = False\n",
        "    for caracter in contraseña:\n",
        "        if caracter.isupper():\n",
        "            tiene_mayuscula = True\n",
        "            break\n",
        "\n",
        "    if not tiene_mayuscula:\n",
        "        print(\"No válida: debe contener al menos una mayúscula\")\n",
        "        valida = False\n",
        "    else:\n",
        "        # Verificar número\n",
        "        tiene_numero = False\n",
        "        for caracter in contraseña:\n",
        "            if caracter.isdigit():\n",
        "                tiene_numero = True\n",
        "                break\n",
        "\n",
        "        if not tiene_numero:\n",
        "            print(\"No válida: debe contener al menos un número\")\n",
        "            valida = False\n",
        "\n",
        "if valida:\n",
        "    print(\"Válida\")"
      ],
      "metadata": {
        "id": "rh3DZX3wlpLg",
        "outputId": "0dc012f6-3754-4837-933a-7b1c382139ea",
        "colab": {
          "base_uri": "https://localhost:8080/"
        }
      },
      "execution_count": 33,
      "outputs": [
        {
          "output_type": "stream",
          "name": "stdout",
          "text": [
            "Ingrese una contraseña: Pocholisn23\n",
            "Válida\n"
          ]
        }
      ]
    },
    {
      "cell_type": "code",
      "source": [
        "contraseña = input(\"Ingrese una contraseña: \")\n",
        "tiene_mayuscula = False\n",
        "tiene_numero = False\n",
        "\n",
        "# Verificar mayúscula\n",
        "for caracter in contraseña:\n",
        "    if caracter.isupper():\n",
        "        tiene_mayuscula = True\n",
        "        break\n",
        "\n",
        "# Verificar número\n",
        "for caracter in contraseña:\n",
        "    if caracter.isdigit():\n",
        "        tiene_numero = True\n",
        "        break\n",
        "\n",
        "if len(contraseña) <= 8:\n",
        "    print(\"No válida: debe tener más de 8 caracteres\")\n",
        "elif not tiene_mayuscula:\n",
        "    print(\"No válida: debe contener al menos una mayúscula\")\n",
        "elif not tiene_numero:\n",
        "    print(\"No válida: debe contener al menos un número\")\n",
        "else:\n",
        "    print(\"Válida\")"
      ],
      "metadata": {
        "id": "SxLEIQbnl2VJ"
      },
      "execution_count": null,
      "outputs": []
    },
    {
      "cell_type": "code",
      "source": [
        "contraseña = input(\"Ingrese una contraseña: \"); l = len(contraseña); m = False; n = False; [setattr(__import__('__main__'), 'm', True) for c in contraseña if c.isupper()]; [setattr(__import__('__main__'), 'n', True) for c in contraseña if c.isdigit()]; print(\"Válida\" if l > 8 and m and n else \"No válida\")"
      ],
      "metadata": {
        "id": "zTD-s_Hql5Fv",
        "outputId": "58eea88d-2ead-4422-b5e7-8144a58c8312",
        "colab": {
          "base_uri": "https://localhost:8080/"
        }
      },
      "execution_count": 34,
      "outputs": [
        {
          "output_type": "stream",
          "name": "stdout",
          "text": [
            "Ingrese una contraseña: POIFJBWBE,M23\n",
            "Válida\n"
          ]
        }
      ]
    },
    {
      "cell_type": "markdown",
      "source": [
        "Ejercicio 9"
      ],
      "metadata": {
        "id": "ORhEywbnmFjx"
      }
    },
    {
      "cell_type": "code",
      "source": [
        "numero = int(input(\"Ingrese un número: \"))\n",
        "if numero % 3 == 0 and numero % 5 == 0:\n",
        "    print(\"FizzBuzz\")\n",
        "else:\n",
        "    if numero % 3 == 0:\n",
        "        print(\"Fizz\")\n",
        "    else:\n",
        "        if numero % 5 == 0:\n",
        "            print(\"Buzz\")\n",
        "        else:\n",
        "            print(numero)"
      ],
      "metadata": {
        "id": "v94NZHvTmJT4"
      },
      "execution_count": null,
      "outputs": []
    },
    {
      "cell_type": "code",
      "source": [
        "numero = int(input(\"Ingrese un número: \"))\n",
        "if numero % 15 == 0:\n",
        "    print(\"FizzBuzz\")\n",
        "elif numero % 3 == 0:\n",
        "    print(\"Fizz\")\n",
        "elif numero % 5 == 0:\n",
        "    print(\"Buzz\")\n",
        "else:\n",
        "    print(numero)"
      ],
      "metadata": {
        "id": "Zot-_ofzmR3p"
      },
      "execution_count": null,
      "outputs": []
    },
    {
      "cell_type": "code",
      "source": [
        "numero = int(input(\"Ingrese un número: \")); print(\"FizzBuzz\" if numero % 15 == 0 else \"Fizz\" if numero % 3 == 0 else \"Buzz\" if numero % 5 == 0 else (numero))"
      ],
      "metadata": {
        "id": "4rJgQHbHmZK4",
        "outputId": "051a9b8c-a9c8-4982-de33-03f535276913",
        "colab": {
          "base_uri": "https://localhost:8080/"
        }
      },
      "execution_count": 36,
      "outputs": [
        {
          "output_type": "stream",
          "name": "stdout",
          "text": [
            "Ingrese un número: 27\n",
            "Fizz\n"
          ]
        }
      ]
    },
    {
      "cell_type": "markdown",
      "source": [
        "Ejercicio 10"
      ],
      "metadata": {
        "id": "svbi8LhWmqFw"
      }
    },
    {
      "cell_type": "code",
      "source": [
        "saldo = 10000\n",
        "monto = float(input(\"Ingrese monto a retirar: \"))\n",
        "if monto > saldo:\n",
        "    print(\"Fondos insuficientes\")\n",
        "else:\n",
        "    if monto <= 0:\n",
        "        print(\"Monto inválido\")\n",
        "    else:\n",
        "        saldo -= monto\n",
        "        print(f\"Retiro exitoso. Nuevo saldo: {saldo}\")"
      ],
      "metadata": {
        "id": "amrg8G6Rmsen"
      },
      "execution_count": null,
      "outputs": []
    },
    {
      "cell_type": "code",
      "source": [
        "saldo = 10000\n",
        "monto = float(input(\"Ingrese monto a retirar: \"))\n",
        "if monto > saldo:\n",
        "    print(\"Fondos insuficientes\")\n",
        "elif monto <= 0:\n",
        "    print(\"Monto inválido\")\n",
        "else:\n",
        "    saldo -= monto\n",
        "    print(f\"Retiro exitoso. Nuevo saldo: {saldo}\")"
      ],
      "metadata": {
        "id": "6lGWd10Mmv8J",
        "outputId": "7f5d21ca-2c2c-475c-c408-aa34821952bd",
        "colab": {
          "base_uri": "https://localhost:8080/"
        }
      },
      "execution_count": 40,
      "outputs": [
        {
          "output_type": "stream",
          "name": "stdout",
          "text": [
            "Ingrese monto a retirar: 234\n",
            "Retiro exitoso. Nuevo saldo: 9766.0\n"
          ]
        }
      ]
    },
    {
      "cell_type": "code",
      "source": [
        "saldo = 10000; monto = float(input(\"Ingrese monto a retirar: \")); print(\"Fondos insuficientes\" if monto > saldo else \"Monto inválido\" if monto <= 0 else f\"Retiro exitoso. Nuevo saldo: {saldo - monto}\")"
      ],
      "metadata": {
        "id": "CRKbvQqUm15o"
      },
      "execution_count": null,
      "outputs": []
    }
  ]
}
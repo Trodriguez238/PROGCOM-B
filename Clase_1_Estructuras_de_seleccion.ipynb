{
  "nbformat": 4,
  "nbformat_minor": 0,
  "metadata": {
    "colab": {
      "provenance": [],
      "authorship_tag": "ABX9TyOTTUCSqx4eFLPHIB7vjdjv",
      "include_colab_link": true
    },
    "kernelspec": {
      "name": "python3",
      "display_name": "Python 3"
    },
    "language_info": {
      "name": "python"
    }
  },
  "cells": [
    {
      "cell_type": "markdown",
      "metadata": {
        "id": "view-in-github",
        "colab_type": "text"
      },
      "source": [
        "<a href=\"https://colab.research.google.com/github/Trodriguez238/PROGCOM-B/blob/main/Clase_1_Estructuras_de_seleccion.ipynb\" target=\"_parent\"><img src=\"https://colab.research.google.com/assets/colab-badge.svg\" alt=\"Open In Colab\"/></a>"
      ]
    },
    {
      "cell_type": "markdown",
      "source": [
        "#Estructuras de seleccion\n",
        "Se emplean cuando quiero evealuar una condicion.El resultado de la evaluacion de esta condicion siempre se da booleano."
      ],
      "metadata": {
        "id": "u31qFgGZLVR9"
      }
    },
    {
      "cell_type": "markdown",
      "source": [
        "##Estructura if-else\n",
        "\n",
        "\n",
        "\n",
        "```\n",
        "If (condicion):\n",
        "    entro aqui. si la condicion dio V\n",
        "else:\n",
        "    entro aqui, si la condicion = F\n",
        "```\n",
        "\n"
      ],
      "metadata": {
        "id": "cHyQkTP1MCEs"
      }
    },
    {
      "cell_type": "code",
      "source": [
        "7 Año bisiesto"
      ],
      "metadata": {
        "id": "OPYwWoCGM2Gt"
      },
      "execution_count": null,
      "outputs": []
    },
    {
      "cell_type": "code",
      "execution_count": 7,
      "metadata": {
        "colab": {
          "base_uri": "https://localhost:8080/"
        },
        "id": "WRDKPxvLKzjB",
        "outputId": "7bfa8554-391c-44ea-d99d-81e012ccf5ed"
      },
      "outputs": [
        {
          "output_type": "stream",
          "name": "stdout",
          "text": [
            "introduzca un año:2024\n",
            "2024 es un año bisiesto\n"
          ]
        }
      ],
      "source": [
        "#1. Es divisible entre 4\n",
        "#2. Es divisible entre 400 pero no entre 100\n",
        "año=int(input(\"introduzca un año:\"))\n",
        "if (año%4 and añod%100!=0):\n",
        "    print(f\"{año} es un año bisisesto \")\n",
        "else:\n",
        "    if (año%4==0):\n",
        "        print(f\"{año} es un año bisiesto\")\n",
        "    else:\n",
        "        print(f\"{año} No es un año bisiesto\")\n",
        "\n",
        "\n"
      ]
    },
    {
      "cell_type": "markdown",
      "source": [
        "##Estrucutra de decision multiple if-elif-else\n",
        "Se emplea cuando hay mas de una decision\n",
        "\n",
        "```\n",
        "if (cond1):\n",
        " si cond1 es verdadero, entro aqui\n",
        "elif(cond2):\n",
        "si cond es falso, pero cond2 es verdadero, entro aqui\n",
        "elif(cond3):\n",
        "si cond1 y cond2 son falso, PERO con 3 es verdadero, entro aqui\n",
        "esle: si cond1 y cond2 y cond3 y cond n son falsas,entrara aqui\n",
        "```\n",
        "\n"
      ],
      "metadata": {
        "id": "tZ0wvp56PNMa"
      }
    },
    {
      "cell_type": "code",
      "source": [
        "if (año%4 and añod%100!=0):print(f\"{año} es un año bisisesto \")\n",
        "elif (año%4==0):print(f\"{año} es un año bisiesto\")\n",
        "else:print(f\"{año} No es un año bisiesto\")"
      ],
      "metadata": {
        "colab": {
          "base_uri": "https://localhost:8080/"
        },
        "id": "8JWwKvnxQVfa",
        "outputId": "f6c935a8-0019-4726-9b78-c9840c76dda5"
      },
      "execution_count": 8,
      "outputs": [
        {
          "output_type": "stream",
          "name": "stdout",
          "text": [
            "2024 es un año bisiesto\n"
          ]
        }
      ]
    },
    {
      "cell_type": "markdown",
      "source": [
        "##Operador terciario\n",
        "programar una estructura de seleccion es una sola linea de codigo\n",
        "\n",
        "\n",
        "```\n",
        "(Lo que se debe ejecutar, si la condicion es verdadera) if (condicion) else (lo que se debe ejecutar si la condicion es falsa)\n",
        "\n"
      ],
      "metadata": {
        "id": "L86oNPXZVw3t"
      }
    },
    {
      "cell_type": "code",
      "source": [
        "a=f\"{año} es un año bisiesto\" if (año%4==0 and año%100!=0) else b\n",
        "b=f\"{año} es un año bisiesto\" if año%400==0 else f\"{año}NO es un año bisiesto\"\n",
        "print(a)"
      ],
      "metadata": {
        "colab": {
          "base_uri": "https://localhost:8080/"
        },
        "id": "Zz-JA6HXYN3N",
        "outputId": "354b319e-2037-4c6b-d56c-d67869e29977"
      },
      "execution_count": 34,
      "outputs": [
        {
          "output_type": "stream",
          "name": "stdout",
          "text": [
            "2024 es un año bisiesto\n"
          ]
        }
      ]
    },
    {
      "cell_type": "markdown",
      "source": [
        "Ejercicio 1"
      ],
      "metadata": {
        "id": "9B9LIvjJTBBY"
      }
    },
    {
      "cell_type": "code",
      "execution_count": 43,
      "metadata": {
        "colab": {
          "base_uri": "https://localhost:8080/"
        },
        "outputId": "5f17f8ab-28a2-4745-9800-ad9a2a49eebe",
        "id": "d_XDMJugTEkh"
      },
      "outputs": [
        {
          "output_type": "stream",
          "name": "stdout",
          "text": [
            "introduzca un numero:21\n",
            "21 es un numero numero positvo \n"
          ]
        }
      ],
      "source": [
        "#1. Es mayor que 0\n",
        "numero=int(input(\"introduzca un numero:\"))\n",
        "if (numero>0):\n",
        "    print(f\"{numero} es un numero numero positvo \")\n",
        "else:\n",
        "        print(f\"{numero} No es un numero positivo\")\n",
        "\n",
        "\n"
      ]
    },
    {
      "cell_type": "code",
      "source": [
        "#1. sea mayor que 0\n",
        "numero=int(input(\"introduzca un numero:\"))\n",
        "if (numero>0 ):print(f\"{numero} es un numero positivo \")\n",
        "elif(numero==0):print(f\"{numero} es el primer numero nautal positivo \")\n",
        "else:print(f\"{numero} No es un numero positivo\")"
      ],
      "metadata": {
        "colab": {
          "base_uri": "https://localhost:8080/"
        },
        "id": "S9WBFjWFT4C3",
        "outputId": "62924190-7126-49ce-d752-2a970b1ed4c1"
      },
      "execution_count": 32,
      "outputs": [
        {
          "output_type": "stream",
          "name": "stdout",
          "text": [
            "introduzca un numero:-9\n",
            "-9 No es un numero positivo\n"
          ]
        }
      ]
    },
    {
      "cell_type": "code",
      "source": [
        "print(f\"{numero} Es un numero positivo\") if (numero > 0) else print(f\"{numero} No es un numero positivo\")"
      ],
      "metadata": {
        "colab": {
          "base_uri": "https://localhost:8080/"
        },
        "id": "WOjzkMn_cwwB",
        "outputId": "6f425c08-a0d6-40ce-fd7a-6c37d11dd1e2"
      },
      "execution_count": 44,
      "outputs": [
        {
          "output_type": "stream",
          "name": "stdout",
          "text": [
            "21 Es un numero positivo\n"
          ]
        }
      ]
    },
    {
      "cell_type": "markdown",
      "source": [
        "Ejercicio 2"
      ],
      "metadata": {
        "id": "Pv5YleugU4nm"
      }
    },
    {
      "cell_type": "code",
      "source": [
        "#1. Es mayor de 18\n",
        "#2 Es mayor de 21\n",
        "numero=int(input(\"introduzca un numero:\"))\n",
        "if (numero>=18):\n",
        "    print(f\"{numero} es mayor de edad  \")\n",
        "else:\n",
        "        print(f\"{numero} No es mayor de edad\")"
      ],
      "metadata": {
        "colab": {
          "base_uri": "https://localhost:8080/"
        },
        "id": "ySNe0xnDU2d2",
        "outputId": "45d5d0c7-d157-4881-808e-f40aa2f2c66d"
      },
      "execution_count": 38,
      "outputs": [
        {
          "output_type": "stream",
          "name": "stdout",
          "text": [
            "introduzca un numero:12\n",
            "12 No es mayor de edad\n"
          ]
        }
      ]
    },
    {
      "cell_type": "code",
      "source": [],
      "metadata": {
        "id": "uHhZQ3dLb3K6"
      },
      "execution_count": null,
      "outputs": []
    },
    {
      "cell_type": "code",
      "source": [
        "#1. Es mayor de 18\n",
        "#2 Es mayor de 21\n",
        "numero=int(input(\"introduzca un numero:\"))\n",
        "if (numero>=21):\n",
        "    print(f\"{numero} es mayor de edad en USA  \")\n",
        "elif (numero>=18):\n",
        "    print(f\"{numero} es mayor de edad colombia  \")\n",
        "else:\n",
        "        print(f\"{numero} No es mayor de edad\")"
      ],
      "metadata": {
        "colab": {
          "base_uri": "https://localhost:8080/"
        },
        "outputId": "d4de21ba-7750-4430-e01e-76835361acc0",
        "id": "CCrfC34nb3iq"
      },
      "execution_count": 45,
      "outputs": [
        {
          "output_type": "stream",
          "name": "stdout",
          "text": [
            "introduzca un numero:13\n",
            "13 No es mayor de edad\n"
          ]
        }
      ]
    },
    {
      "cell_type": "code",
      "source": [
        "print(f\"{numero} Es mayor de edad\") if (numero >= 18) else print(f\"{numero} No es mayor de edad\")"
      ],
      "metadata": {
        "colab": {
          "base_uri": "https://localhost:8080/"
        },
        "id": "kMYwo9fOcSoh",
        "outputId": "9169d620-aa56-4411-c91f-fe4e6a4183a9"
      },
      "execution_count": 46,
      "outputs": [
        {
          "output_type": "stream",
          "name": "stdout",
          "text": [
            "13 No es mayor de edad\n"
          ]
        }
      ]
    },
    {
      "cell_type": "markdown",
      "source": [
        "Ejercicio 3"
      ],
      "metadata": {
        "id": "mR0hK5P1eeHg"
      }
    },
    {
      "cell_type": "code",
      "source": [
        "x=int(input(\"digite un numero::\"))\n",
        "y=int(input(\"digite otro numero::\"))\n",
        "if x>=y:\n",
        "    print(x)\n",
        "else:\n",
        "    print()\n",
        "\n",
        ""
      ],
      "metadata": {
        "colab": {
          "base_uri": "https://localhost:8080/"
        },
        "outputId": "4d3f1e93-08e3-4ffa-8a30-014f173f39da",
        "id": "4yRuIg-MdYzJ"
      },
      "execution_count": 50,
      "outputs": [
        {
          "output_type": "stream",
          "name": "stdout",
          "text": [
            "digite un numero::2\n",
            "digite otro numero::34\n",
            "\n"
          ]
        }
      ]
    },
    {
      "cell_type": "code",
      "source": [
        "x=int(input(\"digite un numero::\"))\n",
        "y=int(input(\"digite otro numero::\"))\n",
        "if x>y:\n",
        "    print(x)\n",
        "elif(x==y):\n",
        "    print(\"los numeros son iguales\")\n",
        "else:\n",
        "    print()\n",
        "\n"
      ],
      "metadata": {
        "colab": {
          "base_uri": "https://localhost:8080/"
        },
        "outputId": "a76d7469-89c3-4816-acd2-0918525deb12",
        "id": "E1-4nKqTexjI"
      },
      "execution_count": 52,
      "outputs": [
        {
          "output_type": "stream",
          "name": "stdout",
          "text": [
            "digite un numero::2\n",
            "digite otro numero::2\n",
            "los numeros son iguales\n"
          ]
        }
      ]
    }
  ]
}
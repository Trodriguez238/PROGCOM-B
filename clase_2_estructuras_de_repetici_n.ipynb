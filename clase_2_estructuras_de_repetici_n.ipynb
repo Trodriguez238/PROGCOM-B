{
  "nbformat": 4,
  "nbformat_minor": 0,
  "metadata": {
    "colab": {
      "provenance": [],
      "authorship_tag": "ABX9TyNHu/Ytaaj2J7dHkRUP/bSB",
      "include_colab_link": true
    },
    "kernelspec": {
      "name": "python3",
      "display_name": "Python 3"
    },
    "language_info": {
      "name": "python"
    }
  },
  "cells": [
    {
      "cell_type": "markdown",
      "metadata": {
        "id": "view-in-github",
        "colab_type": "text"
      },
      "source": [
        "<a href=\"https://colab.research.google.com/github/Trodriguez238/PROGCOM-B/blob/main/clase_2_estructuras_de_repetici_n.ipynb\" target=\"_parent\"><img src=\"https://colab.research.google.com/assets/colab-badge.svg\" alt=\"Open In Colab\"/></a>"
      ]
    },
    {
      "cell_type": "markdown",
      "source": [
        "#Estructuras de repeticion\n",
        "Se emplean cuando se desea repetir una parte del codigo, dada una condicion\n",
        "\n"
      ],
      "metadata": {
        "id": "6ACQLg7SlfXE"
      }
    },
    {
      "cell_type": "markdown",
      "source": [
        "##Estructura para -for\n",
        "Se usa cuando\n",
        "*   Se sabe **cuantas veces** se repite una accion\n",
        "*   Esta compuesta por un contador y una condicion\n",
        "* **contador**: Identifica cuantas veces y con que que frecuencia\n",
        "* **Condicion**: Evalua cuando se detiene.\n",
        "Por definicion:\n",
        "```\n",
        "for variable in range(V1,VF+1,PASO):\n",
        "    Aqui se repita para el codigo.\n",
        "```\n",
        "Donde:\n",
        "1. Vi: condicion inicial. Donde arranca a contar\n",
        "2. vf+1: condicion inicial. Donde deja de contar +1\n",
        "3. paso: Frecuencia de conteo\n",
        "\n",
        "for para recorrido de listas\n",
        "flor=[\"amapola\",\"rosa\",\"tulipan\",\"orquidea\"]\n",
        "* El para va a iterar tantas veces como elmentos tenga la lista\n",
        "* la variable dentro del para, toma como valor, cada elemento de la lista\n",
        "```\n",
        "for variable in lista:\n",
        "    variable\n",
        "```\n",
        "\n",
        "\n"
      ],
      "metadata": {
        "id": "dr65GH2wlyV8"
      }
    },
    {
      "cell_type": "code",
      "source": [
        "#creando una lista de nombre flor\n",
        "flor=[\"amapola\",\"rosa\",\"tulipan\",\"orquidea\"]\n",
        "for flores in flor:\n",
        "    print(flores)\n",
        "    if flores ==\"amapola\":\n",
        "        break#Rompe la iteraccion"
      ],
      "metadata": {
        "colab": {
          "base_uri": "https://localhost:8080/"
        },
        "id": "7obx7y1h01QH",
        "outputId": "38bdc45a-182f-4b7f-d79c-3f04c7ad8efb"
      },
      "execution_count": null,
      "outputs": [
        {
          "output_type": "stream",
          "name": "stdout",
          "text": [
            "amapola\n"
          ]
        }
      ]
    },
    {
      "cell_type": "code",
      "source": [
        "name=[]\n",
        "for nombres in range(5):\n",
        "    name.append(input(\"ingrese su nombre:\"))"
      ],
      "metadata": {
        "colab": {
          "base_uri": "https://localhost:8080/",
          "height": 335
        },
        "id": "ul-eBe59RbjZ",
        "outputId": "a7bf8180-eb38-4e25-f913-9cc61037223a"
      },
      "execution_count": null,
      "outputs": [
        {
          "output_type": "error",
          "ename": "KeyboardInterrupt",
          "evalue": "Interrupted by user",
          "traceback": [
            "\u001b[0;31m---------------------------------------------------------------------------\u001b[0m",
            "\u001b[0;31mKeyboardInterrupt\u001b[0m                         Traceback (most recent call last)",
            "\u001b[0;32m/tmp/ipython-input-3482469322.py\u001b[0m in \u001b[0;36m<cell line: 0>\u001b[0;34m()\u001b[0m\n\u001b[1;32m      1\u001b[0m \u001b[0mname\u001b[0m\u001b[0;34m=\u001b[0m\u001b[0;34m[\u001b[0m\u001b[0;34m]\u001b[0m\u001b[0;34m\u001b[0m\u001b[0;34m\u001b[0m\u001b[0m\n\u001b[1;32m      2\u001b[0m \u001b[0;32mfor\u001b[0m \u001b[0mnombres\u001b[0m \u001b[0;32min\u001b[0m \u001b[0mrange\u001b[0m\u001b[0;34m(\u001b[0m\u001b[0;36m5\u001b[0m\u001b[0;34m)\u001b[0m\u001b[0;34m:\u001b[0m\u001b[0;34m\u001b[0m\u001b[0;34m\u001b[0m\u001b[0m\n\u001b[0;32m----> 3\u001b[0;31m     \u001b[0mname\u001b[0m\u001b[0;34m.\u001b[0m\u001b[0mappend\u001b[0m\u001b[0;34m(\u001b[0m\u001b[0minput\u001b[0m\u001b[0;34m(\u001b[0m\u001b[0;34m\"ingrese su nombre:\"\u001b[0m\u001b[0;34m)\u001b[0m\u001b[0;34m)\u001b[0m\u001b[0;34m\u001b[0m\u001b[0;34m\u001b[0m\u001b[0m\n\u001b[0m",
            "\u001b[0;32m/usr/local/lib/python3.12/dist-packages/ipykernel/kernelbase.py\u001b[0m in \u001b[0;36mraw_input\u001b[0;34m(self, prompt)\u001b[0m\n\u001b[1;32m   1175\u001b[0m                 \u001b[0;34m\"raw_input was called, but this frontend does not support input requests.\"\u001b[0m\u001b[0;34m\u001b[0m\u001b[0;34m\u001b[0m\u001b[0m\n\u001b[1;32m   1176\u001b[0m             )\n\u001b[0;32m-> 1177\u001b[0;31m         return self._input_request(\n\u001b[0m\u001b[1;32m   1178\u001b[0m             \u001b[0mstr\u001b[0m\u001b[0;34m(\u001b[0m\u001b[0mprompt\u001b[0m\u001b[0;34m)\u001b[0m\u001b[0;34m,\u001b[0m\u001b[0;34m\u001b[0m\u001b[0;34m\u001b[0m\u001b[0m\n\u001b[1;32m   1179\u001b[0m             \u001b[0mself\u001b[0m\u001b[0;34m.\u001b[0m\u001b[0m_parent_ident\u001b[0m\u001b[0;34m[\u001b[0m\u001b[0;34m\"shell\"\u001b[0m\u001b[0;34m]\u001b[0m\u001b[0;34m,\u001b[0m\u001b[0;34m\u001b[0m\u001b[0;34m\u001b[0m\u001b[0m\n",
            "\u001b[0;32m/usr/local/lib/python3.12/dist-packages/ipykernel/kernelbase.py\u001b[0m in \u001b[0;36m_input_request\u001b[0;34m(self, prompt, ident, parent, password)\u001b[0m\n\u001b[1;32m   1217\u001b[0m             \u001b[0;32mexcept\u001b[0m \u001b[0mKeyboardInterrupt\u001b[0m\u001b[0;34m:\u001b[0m\u001b[0;34m\u001b[0m\u001b[0;34m\u001b[0m\u001b[0m\n\u001b[1;32m   1218\u001b[0m                 \u001b[0;31m# re-raise KeyboardInterrupt, to truncate traceback\u001b[0m\u001b[0;34m\u001b[0m\u001b[0;34m\u001b[0m\u001b[0m\n\u001b[0;32m-> 1219\u001b[0;31m                 \u001b[0;32mraise\u001b[0m \u001b[0mKeyboardInterrupt\u001b[0m\u001b[0;34m(\u001b[0m\u001b[0;34m\"Interrupted by user\"\u001b[0m\u001b[0;34m)\u001b[0m \u001b[0;32mfrom\u001b[0m \u001b[0;32mNone\u001b[0m\u001b[0;34m\u001b[0m\u001b[0;34m\u001b[0m\u001b[0m\n\u001b[0m\u001b[1;32m   1220\u001b[0m             \u001b[0;32mexcept\u001b[0m \u001b[0mException\u001b[0m\u001b[0;34m:\u001b[0m\u001b[0;34m\u001b[0m\u001b[0;34m\u001b[0m\u001b[0m\n\u001b[1;32m   1221\u001b[0m                 \u001b[0mself\u001b[0m\u001b[0;34m.\u001b[0m\u001b[0mlog\u001b[0m\u001b[0;34m.\u001b[0m\u001b[0mwarning\u001b[0m\u001b[0;34m(\u001b[0m\u001b[0;34m\"Invalid Message:\"\u001b[0m\u001b[0;34m,\u001b[0m \u001b[0mexc_info\u001b[0m\u001b[0;34m=\u001b[0m\u001b[0;32mTrue\u001b[0m\u001b[0;34m)\u001b[0m\u001b[0;34m\u001b[0m\u001b[0;34m\u001b[0m\u001b[0m\n",
            "\u001b[0;31mKeyboardInterrupt\u001b[0m: Interrupted by user"
          ]
        }
      ]
    },
    {
      "cell_type": "markdown",
      "source": [
        "Ejercicios prueba 2:"
      ],
      "metadata": {
        "id": "khdM50dBUwmW"
      }
    },
    {
      "cell_type": "code",
      "source": [
        "#creando una lista de nombre numeros\n",
        "numero=[\"1\",\"2\",\"3\",\"4\",\"5\",\"6\",\"7\",\"8\",\"9\",\"10\"]\n",
        "for numeros in flor:\n",
        "    print(numeros)"
      ],
      "metadata": {
        "colab": {
          "base_uri": "https://localhost:8080/"
        },
        "id": "Vi0AfARCU1oP",
        "outputId": "3bb9871a-ef69-4821-811a-a028d6d4343c"
      },
      "execution_count": null,
      "outputs": [
        {
          "output_type": "stream",
          "name": "stdout",
          "text": [
            "1\n",
            "2\n",
            "3\n",
            "4\n",
            "5\n",
            "6\n",
            "7\n",
            "8\n",
            "9\n",
            "10\n"
          ]
        }
      ]
    },
    {
      "cell_type": "code",
      "source": [
        "for numeros in range(1,11):\n",
        "    print(numeros)"
      ],
      "metadata": {
        "colab": {
          "base_uri": "https://localhost:8080/"
        },
        "id": "PnbR5MO-VlE-",
        "outputId": "d326b713-9cac-4313-db8d-c0e2ea5f19b1"
      },
      "execution_count": null,
      "outputs": [
        {
          "output_type": "stream",
          "name": "stdout",
          "text": [
            "1\n",
            "2\n",
            "3\n",
            "4\n",
            "5\n",
            "6\n",
            "7\n",
            "8\n",
            "9\n",
            "10\n"
          ]
        }
      ]
    },
    {
      "cell_type": "markdown",
      "source": [
        "ejercicio 2"
      ],
      "metadata": {
        "id": "ilj_llQIWGIe"
      }
    },
    {
      "cell_type": "code",
      "source": [
        "suma=0\n",
        "for numero in range(1,101):\n",
        "    suma+=numero\n",
        "    print(suma)"
      ],
      "metadata": {
        "colab": {
          "base_uri": "https://localhost:8080/"
        },
        "id": "S6T2ZgsyZw36",
        "outputId": "138e3c9c-9b4c-4c7e-c1b8-7de78d047338"
      },
      "execution_count": null,
      "outputs": [
        {
          "output_type": "stream",
          "name": "stdout",
          "text": [
            "1\n",
            "3\n",
            "6\n",
            "10\n",
            "15\n",
            "21\n",
            "28\n",
            "36\n",
            "45\n",
            "55\n",
            "66\n",
            "78\n",
            "91\n",
            "105\n",
            "120\n",
            "136\n",
            "153\n",
            "171\n",
            "190\n",
            "210\n",
            "231\n",
            "253\n",
            "276\n",
            "300\n",
            "325\n",
            "351\n",
            "378\n",
            "406\n",
            "435\n",
            "465\n",
            "496\n",
            "528\n",
            "561\n",
            "595\n",
            "630\n",
            "666\n",
            "703\n",
            "741\n",
            "780\n",
            "820\n",
            "861\n",
            "903\n",
            "946\n",
            "990\n",
            "1035\n",
            "1081\n",
            "1128\n",
            "1176\n",
            "1225\n",
            "1275\n",
            "1326\n",
            "1378\n",
            "1431\n",
            "1485\n",
            "1540\n",
            "1596\n",
            "1653\n",
            "1711\n",
            "1770\n",
            "1830\n",
            "1891\n",
            "1953\n",
            "2016\n",
            "2080\n",
            "2145\n",
            "2211\n",
            "2278\n",
            "2346\n",
            "2415\n",
            "2485\n",
            "2556\n",
            "2628\n",
            "2701\n",
            "2775\n",
            "2850\n",
            "2926\n",
            "3003\n",
            "3081\n",
            "3160\n",
            "3240\n",
            "3321\n",
            "3403\n",
            "3486\n",
            "3570\n",
            "3655\n",
            "3741\n",
            "3828\n",
            "3916\n",
            "4005\n",
            "4095\n",
            "4186\n",
            "4278\n",
            "4371\n",
            "4465\n",
            "4560\n",
            "4656\n",
            "4753\n",
            "4851\n",
            "4950\n",
            "5050\n"
          ]
        }
      ]
    },
    {
      "cell_type": "code",
      "source": [
        "suma=0\n",
        "numero=list(range(1,101))\n",
        "for numero in numero:\n",
        "    suma+=numero\n",
        "    print(suma)"
      ],
      "metadata": {
        "colab": {
          "base_uri": "https://localhost:8080/"
        },
        "id": "y85EdYYvaSlE",
        "outputId": "30027c5c-47b7-4f1a-f94b-e875d558f048"
      },
      "execution_count": null,
      "outputs": [
        {
          "output_type": "stream",
          "name": "stdout",
          "text": [
            "1\n",
            "3\n",
            "6\n",
            "10\n",
            "15\n",
            "21\n",
            "28\n",
            "36\n",
            "45\n",
            "55\n",
            "66\n",
            "78\n",
            "91\n",
            "105\n",
            "120\n",
            "136\n",
            "153\n",
            "171\n",
            "190\n",
            "210\n",
            "231\n",
            "253\n",
            "276\n",
            "300\n",
            "325\n",
            "351\n",
            "378\n",
            "406\n",
            "435\n",
            "465\n",
            "496\n",
            "528\n",
            "561\n",
            "595\n",
            "630\n",
            "666\n",
            "703\n",
            "741\n",
            "780\n",
            "820\n",
            "861\n",
            "903\n",
            "946\n",
            "990\n",
            "1035\n",
            "1081\n",
            "1128\n",
            "1176\n",
            "1225\n",
            "1275\n",
            "1326\n",
            "1378\n",
            "1431\n",
            "1485\n",
            "1540\n",
            "1596\n",
            "1653\n",
            "1711\n",
            "1770\n",
            "1830\n",
            "1891\n",
            "1953\n",
            "2016\n",
            "2080\n",
            "2145\n",
            "2211\n",
            "2278\n",
            "2346\n",
            "2415\n",
            "2485\n",
            "2556\n",
            "2628\n",
            "2701\n",
            "2775\n",
            "2850\n",
            "2926\n",
            "3003\n",
            "3081\n",
            "3160\n",
            "3240\n",
            "3321\n",
            "3403\n",
            "3486\n",
            "3570\n",
            "3655\n",
            "3741\n",
            "3828\n",
            "3916\n",
            "4005\n",
            "4095\n",
            "4186\n",
            "4278\n",
            "4371\n",
            "4465\n",
            "4560\n",
            "4656\n",
            "4753\n",
            "4851\n",
            "4950\n",
            "5050\n"
          ]
        }
      ]
    },
    {
      "cell_type": "code",
      "source": [
        "numero=list(range(31))\n",
        "for numero in numero:\n",
        "    if numero %3 ==0:\n",
        "        print(numero)"
      ],
      "metadata": {
        "colab": {
          "base_uri": "https://localhost:8080/"
        },
        "id": "eQUu8dWncWrw",
        "outputId": "467df4d0-8739-4b8b-f7b0-719ac6494ad9"
      },
      "execution_count": null,
      "outputs": [
        {
          "output_type": "stream",
          "name": "stdout",
          "text": [
            "0\n",
            "3\n",
            "6\n",
            "9\n",
            "12\n",
            "15\n",
            "18\n",
            "21\n",
            "24\n",
            "27\n",
            "30\n"
          ]
        }
      ]
    },
    {
      "cell_type": "code",
      "source": [
        "for numero in range(1,31):\n",
        "    if numero %3==0:\n",
        "        print(numero)"
      ],
      "metadata": {
        "colab": {
          "base_uri": "https://localhost:8080/"
        },
        "id": "wrR7FotVeMtP",
        "outputId": "610360f3-d720-4a01-c00e-0376943b88a2"
      },
      "execution_count": null,
      "outputs": [
        {
          "output_type": "stream",
          "name": "stdout",
          "text": [
            "3\n",
            "6\n",
            "9\n",
            "12\n",
            "15\n",
            "18\n",
            "21\n",
            "24\n",
            "27\n",
            "30\n"
          ]
        }
      ]
    },
    {
      "cell_type": "code",
      "source": [
        "numero= int(input(\"digite un numero:\" ))\n",
        "for i in range(1,11):\n",
        "    resultado= numero * i\n",
        "    print(f\"{numero}*{i}={resultado}\")"
      ],
      "metadata": {
        "colab": {
          "base_uri": "https://localhost:8080/"
        },
        "id": "CLATJw07fTX2",
        "outputId": "c96e94f3-0300-4c2e-eda4-58b50d105eb8"
      },
      "execution_count": null,
      "outputs": [
        {
          "output_type": "stream",
          "name": "stdout",
          "text": [
            "digite un numero:2\n",
            "2*1=2\n",
            "2*2=4\n",
            "2*3=6\n",
            "2*4=8\n",
            "2*5=10\n",
            "2*6=12\n",
            "2*7=14\n",
            "2*8=16\n",
            "2*9=18\n",
            "2*10=20\n"
          ]
        }
      ]
    },
    {
      "cell_type": "code",
      "source": [
        "numero = int(input(\"Digite un número: \"))\n",
        "lista = [numero * i for i in range(1, 11)]\n",
        "for i, resultado in enumerate(lista, 1):\n",
        "    print(f\"{numero} × {i} = {resultado}\")"
      ],
      "metadata": {
        "colab": {
          "base_uri": "https://localhost:8080/"
        },
        "id": "u5Yowmhthkas",
        "outputId": "40f62e9e-1f5a-4680-af8e-96fb1cf1b87e"
      },
      "execution_count": null,
      "outputs": [
        {
          "output_type": "stream",
          "name": "stdout",
          "text": [
            "Digite un número: 7\n",
            "7 × 1 = 7\n",
            "7 × 2 = 14\n",
            "7 × 3 = 21\n",
            "7 × 4 = 28\n",
            "7 × 5 = 35\n",
            "7 × 6 = 42\n",
            "7 × 7 = 49\n",
            "7 × 8 = 56\n",
            "7 × 9 = 63\n",
            "7 × 10 = 70\n"
          ]
        }
      ]
    },
    {
      "cell_type": "code",
      "source": [
        "numerou= int(input(\"digite un numero:\" ))\n",
        "numerod= int(input(\"digite un numero:\" ))\n",
        "numerot= int(input(\"digite un numero:\" ))\n",
        "numerocu= int(input(\"digite un numero:\" ))\n",
        "numeroci= int(input(\"digite un numero:\" ))\n",
        "for i in range(1,6):\n",
        "    resultado= numerou+numerod+numerot+numerocu+numeroci\n",
        "    promedio= resultado/5\n",
        "    print(promedio)"
      ],
      "metadata": {
        "colab": {
          "base_uri": "https://localhost:8080/"
        },
        "id": "9c7uaoKibyAi",
        "outputId": "fd812abb-ed3b-4425-9173-b43935c5b24b"
      },
      "execution_count": null,
      "outputs": [
        {
          "output_type": "stream",
          "name": "stdout",
          "text": [
            "digite un numero:2\n",
            "digite un numero:3\n",
            "digite un numero:5\n",
            "digite un numero:7\n",
            "digite un numero:7\n",
            "4.8\n",
            "4.8\n",
            "4.8\n",
            "4.8\n",
            "4.8\n"
          ]
        }
      ]
    },
    {
      "cell_type": "code",
      "source": [
        "numeros = [float(input(f\"Ingresa el número {i+1}: \")) for i in range(5)]\n",
        "\n",
        "print(f\"\\nLos números ingresados son: {numeros}\")\n",
        "print(f\"{sum(numeros)}\")\n",
        "print(f\"El promedio es: {sum(numeros) / 5}\")"
      ],
      "metadata": {
        "colab": {
          "base_uri": "https://localhost:8080/"
        },
        "id": "TDIJ7TkJjha5",
        "outputId": "2286b360-ee5f-419d-e496-0c7a8bd5be31"
      },
      "execution_count": null,
      "outputs": [
        {
          "output_type": "stream",
          "name": "stdout",
          "text": [
            "Ingresa el número 1: 4\n",
            "Ingresa el número 2: 3\n",
            "Ingresa el número 3: 2\n",
            "Ingresa el número 4: 5\n",
            "Ingresa el número 5: 6\n",
            "\n",
            "Los números ingresados son: [4.0, 3.0, 2.0, 5.0, 6.0]\n",
            "20.0\n",
            "El promedio es: 4.0\n"
          ]
        }
      ]
    },
    {
      "cell_type": "markdown",
      "source": [
        "#mutabilidad\n",
        "#inmutabilidad en programacion"
      ],
      "metadata": {
        "id": "_mHO-QiKTF4A"
      }
    },
    {
      "cell_type": "markdown",
      "source": [
        "##Estructura while\n",
        "* se emeplea cuando **No se sabe**\n",
        "cuantas veces se debe repetir una accion, peromsi se conoce su condicion de parada (CP).\n",
        "*  condicion final(parada):Que indica dondese detiene el ciclo\n",
        "*  Modificador de condicion inicial\n",
        "Estrucutra genera de mientras\n",
        "\n",
        "```\n",
        "Condicion inicial\n",
        "while (condicion=condicion final)\n",
        ":\n",
        "    modificador de condicion inicial\n",
        "```\n",
        "Modificadores de condicion final\n",
        "*  Banderas: son booleamos\n",
        "*  son preguntas\n",
        "*  son contadores o acumuladores\n"
      ],
      "metadata": {
        "id": "mxZ5MwCu2nem"
      }
    },
    {
      "cell_type": "markdown",
      "source": [
        "##Listas\n",
        "*Son un conjunto de objetos,\n",
        "**indexado**, separado por comas, y encerrado entre [].\n",
        "*  Todos los elementos dentro de una lista; se empienzan a contar desde 0.\n",
        "###Creacion de listas\n",
        "* Forma general: lista=[]\n",
        "* Forma manual animal=[\"gato\",\"perro\",zorro,\"oso\"]\n",
        "* por conversion numeros=list(range (10))"
      ],
      "metadata": {
        "id": "g57vqg-AwG_D"
      }
    },
    {
      "cell_type": "code",
      "source": [
        "lista= []"
      ],
      "metadata": {
        "id": "efZ4vC8-ywGR"
      },
      "execution_count": null,
      "outputs": []
    },
    {
      "cell_type": "code",
      "source": [],
      "metadata": {
        "id": "1DYIOMqQQcUS"
      },
      "execution_count": null,
      "outputs": []
    },
    {
      "cell_type": "code",
      "execution_count": null,
      "metadata": {
        "colab": {
          "base_uri": "https://localhost:8080/"
        },
        "id": "dHoGApy1lO3y",
        "outputId": "fbd5d6a6-5534-424f-fb3d-def329471a2c"
      },
      "outputs": [
        {
          "output_type": "execute_result",
          "data": {
            "text/plain": [
              "list"
            ]
          },
          "metadata": {},
          "execution_count": 12
        }
      ],
      "source": [
        "type(lista)"
      ]
    },
    {
      "cell_type": "code",
      "source": [
        "zorro=(1,2,3,4)\n",
        "animales=[\"gato\",\"perro\",zorro,\"oso\"]\n",
        "animales"
      ],
      "metadata": {
        "colab": {
          "base_uri": "https://localhost:8080/"
        },
        "id": "GkuhG-Xhx8ES",
        "outputId": "ce4c1237-c151-4b31-b846-0c8a359a4a7c"
      },
      "execution_count": null,
      "outputs": [
        {
          "output_type": "execute_result",
          "data": {
            "text/plain": [
              "['gato', 'perro', (1, 2, 3, 4), 'oso']"
            ]
          },
          "metadata": {},
          "execution_count": 1
        }
      ]
    },
    {
      "cell_type": "code",
      "source": [
        "type(zorro)"
      ],
      "metadata": {
        "colab": {
          "base_uri": "https://localhost:8080/"
        },
        "id": "FnDNIexzyY-K",
        "outputId": "0dfccb89-d129-44ec-c3b0-b9912527f861"
      },
      "execution_count": null,
      "outputs": [
        {
          "output_type": "execute_result",
          "data": {
            "text/plain": [
              "tuple"
            ]
          },
          "metadata": {},
          "execution_count": 4
        }
      ]
    },
    {
      "cell_type": "code",
      "source": [
        "numero=list(range(10))\n",
        "numero"
      ],
      "metadata": {
        "colab": {
          "base_uri": "https://localhost:8080/"
        },
        "id": "IedORlOYzFP5",
        "outputId": "05b5a359-d88e-4304-c808-993de605921e"
      },
      "execution_count": null,
      "outputs": [
        {
          "output_type": "execute_result",
          "data": {
            "text/plain": [
              "[0, 1, 2, 3, 4, 5, 6, 7, 8, 9]"
            ]
          },
          "metadata": {},
          "execution_count": 13
        }
      ]
    },
    {
      "cell_type": "code",
      "source": [
        "range(10)"
      ],
      "metadata": {
        "colab": {
          "base_uri": "https://localhost:8080/"
        },
        "id": "QwL4GqBhzSIQ",
        "outputId": "3d05cafa-ad44-439d-bf02-aa03b659c30b"
      },
      "execution_count": null,
      "outputs": [
        {
          "output_type": "execute_result",
          "data": {
            "text/plain": [
              "range(0, 10)"
            ]
          },
          "metadata": {},
          "execution_count": 14
        }
      ]
    }
  ]
}
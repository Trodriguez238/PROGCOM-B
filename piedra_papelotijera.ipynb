{
  "nbformat": 4,
  "nbformat_minor": 0,
  "metadata": {
    "colab": {
      "provenance": [],
      "toc_visible": true,
      "authorship_tag": "ABX9TyNqsqFc+3+oTEP4+B0rrcXM",
      "include_colab_link": true
    },
    "kernelspec": {
      "name": "python3",
      "display_name": "Python 3"
    },
    "language_info": {
      "name": "python"
    }
  },
  "cells": [
    {
      "cell_type": "markdown",
      "metadata": {
        "id": "view-in-github",
        "colab_type": "text"
      },
      "source": [
        "<a href=\"https://colab.research.google.com/github/Trodriguez238/PROGCOM-B/blob/main/piedra_papelotijera.ipynb\" target=\"_parent\"><img src=\"https://colab.research.google.com/assets/colab-badge.svg\" alt=\"Open In Colab\"/></a>"
      ]
    },
    {
      "cell_type": "code",
      "execution_count": null,
      "metadata": {
        "colab": {
          "base_uri": "https://localhost:8080/"
        },
        "id": "JmgYJAPvob6M",
        "outputId": "5ca9a05f-1027-4cb6-96a3-957da8a83f1a"
      },
      "outputs": [
        {
          "output_type": "stream",
          "name": "stdout",
          "text": [
            "🪨 📄 ✂️  Bienvenido al juego de Piedra, Papel o Tijera (consola)\n",
            "Escribe 'salir' en cualquier momento para terminar.\n",
            "\n"
          ]
        }
      ],
      "source": [
        "import random\n",
        "\n",
        "def jugar_ronda():\n",
        "    opciones = [\"piedra\", \"papel\", \"tijera\"]\n",
        "\n",
        "    while True:\n",
        "        jugador = input(\"Elige piedra, papel o tijera (o 'salir' para terminar): \").lower()\n",
        "        if jugador == 'salir':\n",
        "            return None, None, None\n",
        "        if jugador not in opciones:\n",
        "            print(\"Opción no válida. Intenta de nuevo.\")\n",
        "            continue\n",
        "        break\n",
        "\n",
        "    bot = random.choice(opciones)\n",
        "\n",
        "    print(f\"Tú elegiste: {jugador}\")\n",
        "    print(f\"El bot eligió: {bot}\")\n",
        "\n",
        "    if jugador == bot:\n",
        "        resultado = \"Empate\"\n",
        "    elif (jugador == \"piedra\" and bot == \"tijera\") or \\\n",
        "         (jugador == \"papel\" and bot == \"piedra\") or \\\n",
        "         (jugador == \"tijera\" and bot == \"papel\"):\n",
        "        resultado = \"Ganaste\"\n",
        "    else:\n",
        "        resultado = \"Perdiste\"\n",
        "\n",
        "    print(\"Resultado:\", resultado)\n",
        "    return resultado, jugador, bot\n",
        "\n",
        "def juego():\n",
        "    print(\"🪨 📄 ✂️  Bienvenido al juego de Piedra, Papel o Tijera (consola)\")\n",
        "    print(\"Escribe 'salir' en cualquier momento para terminar.\\n\")\n",
        "\n",
        "    ganados = 0\n",
        "    perdidos = 0\n",
        "    empates = 0\n",
        "\n",
        "    while True:\n",
        "        resultado, jugador, bot = jugar_ronda()\n",
        "        if resultado is None:\n",
        "            break\n",
        "        if resultado == \"Ganaste\":\n",
        "            ganados += 1\n",
        "        elif resultado == \"Perdiste\":\n",
        "            perdidos += 1\n",
        "        else:\n",
        "            empates += 1\n",
        "\n",
        "        print(f\"Marcador: Victorias: {ganados} | Derrotas: {perdidos} | Empates: {empates}\\n\")\n",
        "\n",
        "    print(\"\\nJuego terminado.\")\n",
        "    print(f\"Resultados finales → Victorias: {ganados}, Derrotas: {perdidos}, Empates: {empates}\")\n",
        "\n",
        "if __name__ == \"__main__\":\n",
        "    juego()"
      ]
    }
  ]
}